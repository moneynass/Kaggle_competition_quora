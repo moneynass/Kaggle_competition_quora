{
 "cells": [
  {
   "cell_type": "code",
   "execution_count": 176,
   "metadata": {},
   "outputs": [],
   "source": [
    "import os\n",
    "\n",
    "import collections\n",
    "import matplotlib.pyplot as plt\n",
    "import nltk\n",
    "import numpy as np\n",
    "import pandas as pd\n",
    "import seaborn as sns\n",
    "import spacy\n",
    "\n",
    "from nltk.corpus import stopwords\n",
    "from wordcloud import WordCloud, STOPWORDS \n",
    "from sklearn.model_selection import train_test_split\n",
    "from sklearn.pipeline import Pipeline\n",
    "from sklearn.naive_bayes import MultinomialNB\n",
    "from sklearn.linear_model import LogisticRegression\n",
    "from sklearn.metrics import accuracy_score, classification_report, confusion_matrix\n",
    "from sklearn.metrics import confusion_matrix\n",
    "from sklearn.model_selection import GridSearchCV\n",
    "from sklearn.feature_extraction.text import CountVectorizer\n",
    "from sklearn.feature_extraction.text import TfidfVectorizer \n",
    "from sklearn.decomposition import TruncatedSVD\n",
    "from collections import defaultdict\n",
    "\n",
    "pd.set_option('display.max_colwidth', -1)\n",
    "sns.set()\n",
    "%matplotlib inline"
   ]
  },
  {
   "cell_type": "code",
   "execution_count": 177,
   "metadata": {},
   "outputs": [
    {
     "data": {
      "text/plain": [
       "'../cache/train.csv'"
      ]
     },
     "execution_count": 177,
     "metadata": {},
     "output_type": "execute_result"
    }
   ],
   "source": [
    "path = os.path.join('..', 'cache')\n",
    "filename = 'train.csv'\n",
    "filepath = os.path.join(path, filename)\n",
    "filepath"
   ]
  },
  {
   "cell_type": "code",
   "execution_count": 178,
   "metadata": {},
   "outputs": [
    {
     "name": "stdout",
     "output_type": "stream",
     "text": [
      "\u001b[31mtest.csv\u001b[m\u001b[m  \u001b[31mtrain.csv\u001b[m\u001b[m\r\n"
     ]
    }
   ],
   "source": [
    "!ls {path}"
   ]
  },
  {
   "cell_type": "code",
   "execution_count": null,
   "metadata": {},
   "outputs": [],
   "source": []
  },
  {
   "cell_type": "code",
   "execution_count": 179,
   "metadata": {},
   "outputs": [
    {
     "data": {
      "text/html": [
       "<div>\n",
       "<style scoped>\n",
       "    .dataframe tbody tr th:only-of-type {\n",
       "        vertical-align: middle;\n",
       "    }\n",
       "\n",
       "    .dataframe tbody tr th {\n",
       "        vertical-align: top;\n",
       "    }\n",
       "\n",
       "    .dataframe thead th {\n",
       "        text-align: right;\n",
       "    }\n",
       "</style>\n",
       "<table border=\"1\" class=\"dataframe\">\n",
       "  <thead>\n",
       "    <tr style=\"text-align: right;\">\n",
       "      <th></th>\n",
       "      <th>qid</th>\n",
       "      <th>question_text</th>\n",
       "      <th>target</th>\n",
       "    </tr>\n",
       "  </thead>\n",
       "  <tbody>\n",
       "    <tr>\n",
       "      <th>0</th>\n",
       "      <td>00002165364db923c7e6</td>\n",
       "      <td>How did Quebec nationalists see their province as a nation in the 1960s?</td>\n",
       "      <td>0</td>\n",
       "    </tr>\n",
       "    <tr>\n",
       "      <th>1</th>\n",
       "      <td>000032939017120e6e44</td>\n",
       "      <td>Do you have an adopted dog, how would you encourage people to adopt and not shop?</td>\n",
       "      <td>0</td>\n",
       "    </tr>\n",
       "    <tr>\n",
       "      <th>2</th>\n",
       "      <td>0000412ca6e4628ce2cf</td>\n",
       "      <td>Why does velocity affect time? Does velocity affect space geometry?</td>\n",
       "      <td>0</td>\n",
       "    </tr>\n",
       "    <tr>\n",
       "      <th>3</th>\n",
       "      <td>000042bf85aa498cd78e</td>\n",
       "      <td>How did Otto von Guericke used the Magdeburg hemispheres?</td>\n",
       "      <td>0</td>\n",
       "    </tr>\n",
       "    <tr>\n",
       "      <th>4</th>\n",
       "      <td>0000455dfa3e01eae3af</td>\n",
       "      <td>Can I convert montra helicon D to a mountain bike by just changing the tyres?</td>\n",
       "      <td>0</td>\n",
       "    </tr>\n",
       "  </tbody>\n",
       "</table>\n",
       "</div>"
      ],
      "text/plain": [
       "                    qid  \\\n",
       "0  00002165364db923c7e6   \n",
       "1  000032939017120e6e44   \n",
       "2  0000412ca6e4628ce2cf   \n",
       "3  000042bf85aa498cd78e   \n",
       "4  0000455dfa3e01eae3af   \n",
       "\n",
       "                                                                       question_text  \\\n",
       "0  How did Quebec nationalists see their province as a nation in the 1960s?            \n",
       "1  Do you have an adopted dog, how would you encourage people to adopt and not shop?   \n",
       "2  Why does velocity affect time? Does velocity affect space geometry?                 \n",
       "3  How did Otto von Guericke used the Magdeburg hemispheres?                           \n",
       "4  Can I convert montra helicon D to a mountain bike by just changing the tyres?       \n",
       "\n",
       "   target  \n",
       "0  0       \n",
       "1  0       \n",
       "2  0       \n",
       "3  0       \n",
       "4  0       "
      ]
     },
     "execution_count": 179,
     "metadata": {},
     "output_type": "execute_result"
    }
   ],
   "source": [
    "df_train = pd.read_csv(os.path.join(path, 'train.csv'))\n",
    "df_train.head()"
   ]
  },
  {
   "cell_type": "code",
   "execution_count": 180,
   "metadata": {},
   "outputs": [
    {
     "data": {
      "text/html": [
       "<div>\n",
       "<style scoped>\n",
       "    .dataframe tbody tr th:only-of-type {\n",
       "        vertical-align: middle;\n",
       "    }\n",
       "\n",
       "    .dataframe tbody tr th {\n",
       "        vertical-align: top;\n",
       "    }\n",
       "\n",
       "    .dataframe thead th {\n",
       "        text-align: right;\n",
       "    }\n",
       "</style>\n",
       "<table border=\"1\" class=\"dataframe\">\n",
       "  <thead>\n",
       "    <tr style=\"text-align: right;\">\n",
       "      <th></th>\n",
       "      <th>qid</th>\n",
       "      <th>question_text</th>\n",
       "    </tr>\n",
       "  </thead>\n",
       "  <tbody>\n",
       "    <tr>\n",
       "      <th>0</th>\n",
       "      <td>00014894849d00ba98a9</td>\n",
       "      <td>My voice range is A2-C5. My chest voice goes up to F4. Included sample in my higher chest range. What is my voice type?</td>\n",
       "    </tr>\n",
       "    <tr>\n",
       "      <th>1</th>\n",
       "      <td>000156468431f09b3cae</td>\n",
       "      <td>How much does a tutor earn in Bangalore?</td>\n",
       "    </tr>\n",
       "    <tr>\n",
       "      <th>2</th>\n",
       "      <td>000227734433360e1aae</td>\n",
       "      <td>What are the best made pocket knives under $200-300?</td>\n",
       "    </tr>\n",
       "    <tr>\n",
       "      <th>3</th>\n",
       "      <td>0005e06fbe3045bd2a92</td>\n",
       "      <td>Why would they add a hypothetical scenario that’s impossible to happen in the link below? It shows what 800 meters rise in sea level would look like.</td>\n",
       "    </tr>\n",
       "    <tr>\n",
       "      <th>4</th>\n",
       "      <td>00068a0f7f41f50fc399</td>\n",
       "      <td>What is the dresscode for Techmahindra freshers?</td>\n",
       "    </tr>\n",
       "  </tbody>\n",
       "</table>\n",
       "</div>"
      ],
      "text/plain": [
       "                    qid  \\\n",
       "0  00014894849d00ba98a9   \n",
       "1  000156468431f09b3cae   \n",
       "2  000227734433360e1aae   \n",
       "3  0005e06fbe3045bd2a92   \n",
       "4  00068a0f7f41f50fc399   \n",
       "\n",
       "                                                                                                                                           question_text  \n",
       "0  My voice range is A2-C5. My chest voice goes up to F4. Included sample in my higher chest range. What is my voice type?                                \n",
       "1  How much does a tutor earn in Bangalore?                                                                                                               \n",
       "2  What are the best made pocket knives under $200-300?                                                                                                   \n",
       "3  Why would they add a hypothetical scenario that’s impossible to happen in the link below? It shows what 800 meters rise in sea level would look like.  \n",
       "4  What is the dresscode for Techmahindra freshers?                                                                                                       "
      ]
     },
     "execution_count": 180,
     "metadata": {},
     "output_type": "execute_result"
    }
   ],
   "source": [
    "df_test =  pd.read_csv(os.path.join(path, 'test.csv'))\n",
    "df_test.head()"
   ]
  },
  {
   "cell_type": "code",
   "execution_count": 50,
   "metadata": {},
   "outputs": [
    {
     "data": {
      "text/plain": [
       "(1306122, 3)"
      ]
     },
     "execution_count": 50,
     "metadata": {},
     "output_type": "execute_result"
    }
   ],
   "source": [
    "df_train.shape"
   ]
  },
  {
   "cell_type": "code",
   "execution_count": 51,
   "metadata": {},
   "outputs": [
    {
     "data": {
      "text/plain": [
       "array([0, 1])"
      ]
     },
     "execution_count": 51,
     "metadata": {},
     "output_type": "execute_result"
    }
   ],
   "source": [
    "np.unique(df_train['target'])"
   ]
  },
  {
   "cell_type": "code",
   "execution_count": 52,
   "metadata": {},
   "outputs": [
    {
     "data": {
      "text/plain": [
       "1306122"
      ]
     },
     "execution_count": 52,
     "metadata": {},
     "output_type": "execute_result"
    }
   ],
   "source": [
    "len(df_train)"
   ]
  },
  {
   "cell_type": "code",
   "execution_count": 53,
   "metadata": {},
   "outputs": [
    {
     "data": {
      "text/plain": [
       "0.06187017751787352"
      ]
     },
     "execution_count": 53,
     "metadata": {},
     "output_type": "execute_result"
    }
   ],
   "source": [
    "df_train['target'].mean()"
   ]
  },
  {
   "cell_type": "code",
   "execution_count": 54,
   "metadata": {},
   "outputs": [
    {
     "data": {
      "image/png": "[encoded data removed]",
      "text/plain": [
       "<Figure size 432x288 with 1 Axes>"
      ]
     },
     "metadata": {},
     "output_type": "display_data"
    }
   ],
   "source": [
    "plt.figure(figsize=(6,4))\n",
    "sns.countplot(x=\"target\", data=df_train, palette=\"Greens_d\");"
   ]
  },
  {
   "cell_type": "markdown",
   "metadata": {},
   "source": [
    "*df_train unbalanced : only 6% of dataset vith positive values*"
   ]
  },
  {
   "cell_type": "code",
   "execution_count": 183,
   "metadata": {},
   "outputs": [
    {
     "data": {
      "text/html": [
       "<div>\n",
       "<style scoped>\n",
       "    .dataframe tbody tr th:only-of-type {\n",
       "        vertical-align: middle;\n",
       "    }\n",
       "\n",
       "    .dataframe tbody tr th {\n",
       "        vertical-align: top;\n",
       "    }\n",
       "\n",
       "    .dataframe thead th {\n",
       "        text-align: right;\n",
       "    }\n",
       "</style>\n",
       "<table border=\"1\" class=\"dataframe\">\n",
       "  <thead>\n",
       "    <tr style=\"text-align: right;\">\n",
       "      <th></th>\n",
       "      <th>qid</th>\n",
       "      <th>question_text</th>\n",
       "      <th>target</th>\n",
       "    </tr>\n",
       "  </thead>\n",
       "  <tbody>\n",
       "    <tr>\n",
       "      <th>22</th>\n",
       "      <td>0000e91571b60c2fb487</td>\n",
       "      <td>Has the United States become the largest dictatorship in the world?</td>\n",
       "      <td>1</td>\n",
       "    </tr>\n",
       "    <tr>\n",
       "      <th>30</th>\n",
       "      <td>00013ceca3f624b09f42</td>\n",
       "      <td>Which babies are more sweeter to their parents? Dark skin babies or light skin babies?</td>\n",
       "      <td>1</td>\n",
       "    </tr>\n",
       "    <tr>\n",
       "      <th>110</th>\n",
       "      <td>0004a7fcb2bf73076489</td>\n",
       "      <td>If blacks support school choice and mandatory sentencing for criminals why don't they vote Republican?</td>\n",
       "      <td>1</td>\n",
       "    </tr>\n",
       "    <tr>\n",
       "      <th>114</th>\n",
       "      <td>00052793eaa287aff1e1</td>\n",
       "      <td>I am gay boy and I love my cousin (boy). He is sexy, but I dont know what to do. He is hot, and I want to see his di**. What should I do?</td>\n",
       "      <td>1</td>\n",
       "    </tr>\n",
       "    <tr>\n",
       "      <th>115</th>\n",
       "      <td>000537213b01fd77b58a</td>\n",
       "      <td>Which races have the smallest penis?</td>\n",
       "      <td>1</td>\n",
       "    </tr>\n",
       "    <tr>\n",
       "      <th>119</th>\n",
       "      <td>00056d45a1ce63856fc6</td>\n",
       "      <td>Why do females find penises ugly?</td>\n",
       "      <td>1</td>\n",
       "    </tr>\n",
       "    <tr>\n",
       "      <th>127</th>\n",
       "      <td>0005de07b07a17046e27</td>\n",
       "      <td>How do I marry an American woman for a Green Card? How much do they charge?</td>\n",
       "      <td>1</td>\n",
       "    </tr>\n",
       "    <tr>\n",
       "      <th>144</th>\n",
       "      <td>00068875d7c82a5bcf88</td>\n",
       "      <td>Why do Europeans say they're the superior race, when in fact it took them over 2,000 years until mid 19th century to surpass China's largest economy?</td>\n",
       "      <td>1</td>\n",
       "    </tr>\n",
       "    <tr>\n",
       "      <th>156</th>\n",
       "      <td>0006ffd99a6599ff35b3</td>\n",
       "      <td>Did Julius Caesar bring a tyrannosaurus rex on his campaigns to frighten the Celts into submission?</td>\n",
       "      <td>1</td>\n",
       "    </tr>\n",
       "    <tr>\n",
       "      <th>167</th>\n",
       "      <td>00075f7061837807c69f</td>\n",
       "      <td>In what manner has Republican backing of 'states rights' been hypocritical and what ways have they actually restricted the ability of states to make their own laws?</td>\n",
       "      <td>1</td>\n",
       "    </tr>\n",
       "    <tr>\n",
       "      <th>168</th>\n",
       "      <td>00076debbd82860ca33a</td>\n",
       "      <td>Would Europeans continue to participate in the Arab war for the destruction of Israel and killing all the Jews, if they knew that god himself defends Israel and he will do to Europeans what the Arabs want to do to the Jews?</td>\n",
       "      <td>1</td>\n",
       "    </tr>\n",
       "    <tr>\n",
       "      <th>208</th>\n",
       "      <td>000983f5b226cca636f4</td>\n",
       "      <td>Why are Americans, British, Canadians, Australians and New Zealanders considered to be separate nations even when they all speak the same language?</td>\n",
       "      <td>1</td>\n",
       "    </tr>\n",
       "    <tr>\n",
       "      <th>214</th>\n",
       "      <td>0009fcb845bb24de91f4</td>\n",
       "      <td>If both Honey Singh and Justin Bieber fall from the 5th floor, who will survive?</td>\n",
       "      <td>1</td>\n",
       "    </tr>\n",
       "    <tr>\n",
       "      <th>224</th>\n",
       "      <td>000a898565e80fe124bf</td>\n",
       "      <td>Why are liberal minorities so voilent towards poeple with diffrent poltical beleifs? Should supporting trump be a sentence to be imprisoned or savegely attacked?</td>\n",
       "      <td>1</td>\n",
       "    </tr>\n",
       "    <tr>\n",
       "      <th>235</th>\n",
       "      <td>000b1f4cbc5c238a765d</td>\n",
       "      <td>Can we all now admit that President Trump doesn't really want Congress to pass legislation replacing DACA to protect dreamers?</td>\n",
       "      <td>1</td>\n",
       "    </tr>\n",
       "    <tr>\n",
       "      <th>260</th>\n",
       "      <td>000c44fe9b2822b25d77</td>\n",
       "      <td>The American economy is growing under Trump’s presidency, why do people still hate Trump as a president?</td>\n",
       "      <td>1</td>\n",
       "    </tr>\n",
       "    <tr>\n",
       "      <th>286</th>\n",
       "      <td>000d9de4df8d6a31c248</td>\n",
       "      <td>Why don't poor countries print more money to use for paying for education, etc.?</td>\n",
       "      <td>1</td>\n",
       "    </tr>\n",
       "    <tr>\n",
       "      <th>289</th>\n",
       "      <td>000db4d0223af5dd9c5d</td>\n",
       "      <td>Why do all the people who claim Florida has great weather go silent every time there's a new hurricane?</td>\n",
       "      <td>1</td>\n",
       "    </tr>\n",
       "    <tr>\n",
       "      <th>291</th>\n",
       "      <td>000db9603d16a6d9bb2e</td>\n",
       "      <td>Could the leader of Iran be dead many years ago and the leader of today's Iran is actually a fake leader?</td>\n",
       "      <td>1</td>\n",
       "    </tr>\n",
       "    <tr>\n",
       "      <th>302</th>\n",
       "      <td>000e67648fce55f011be</td>\n",
       "      <td>Why do the Liberals who run schools choose not to have controlled access? The kids in Florida were killed due to an unlocked door.</td>\n",
       "      <td>1</td>\n",
       "    </tr>\n",
       "    <tr>\n",
       "      <th>315</th>\n",
       "      <td>000f0266e12c3349db07</td>\n",
       "      <td>Why did Pakistan pass the Sikh Marriage Act before India?</td>\n",
       "      <td>1</td>\n",
       "    </tr>\n",
       "    <tr>\n",
       "      <th>333</th>\n",
       "      <td>000f89527b907f3ef20f</td>\n",
       "      <td>How do I train my dogs to kill raccoons?</td>\n",
       "      <td>1</td>\n",
       "    </tr>\n",
       "    <tr>\n",
       "      <th>362</th>\n",
       "      <td>0010b8bd37af629de2f9</td>\n",
       "      <td>Is there any woman (other than Muslim) who is happy after marrying a Muslim guy, as there are a lot of answers on Quora about love jihad, and all of them suffered a lot after marrying a Muslim guy?</td>\n",
       "      <td>1</td>\n",
       "    </tr>\n",
       "    <tr>\n",
       "      <th>397</th>\n",
       "      <td>0012bba774c13ce9cc9e</td>\n",
       "      <td>Do moms have sex with their sons?</td>\n",
       "      <td>1</td>\n",
       "    </tr>\n",
       "    <tr>\n",
       "      <th>400</th>\n",
       "      <td>0012d72ccc14e9329f97</td>\n",
       "      <td>Why did the Pope say that \"Muslims are a curse to this world\"?</td>\n",
       "      <td>1</td>\n",
       "    </tr>\n",
       "    <tr>\n",
       "      <th>439</th>\n",
       "      <td>0014e0200bb280d44ea1</td>\n",
       "      <td>How peoples in India seems hypocritical about womans empowerment?</td>\n",
       "      <td>1</td>\n",
       "    </tr>\n",
       "    <tr>\n",
       "      <th>460</th>\n",
       "      <td>0015e367aa794e5d547f</td>\n",
       "      <td>How much more political fumbling will it take for Republicans to turn on Trump?</td>\n",
       "      <td>1</td>\n",
       "    </tr>\n",
       "    <tr>\n",
       "      <th>496</th>\n",
       "      <td>00175f5e9c85b110614e</td>\n",
       "      <td>Why do Americans prefer just to not show up somewhere rather than face even the mildest of conflicts? (My colleagues and I have noted a growing number of people who skip any face to face meetings without any explanation at all.)</td>\n",
       "      <td>1</td>\n",
       "    </tr>\n",
       "    <tr>\n",
       "      <th>538</th>\n",
       "      <td>00199a473cba7b54d974</td>\n",
       "      <td>Liberals are pro-choice, but the choices must be approved by them first. Is this an accurate description of liberals?</td>\n",
       "      <td>1</td>\n",
       "    </tr>\n",
       "    <tr>\n",
       "      <th>544</th>\n",
       "      <td>0019e01b2a7b09d3cb65</td>\n",
       "      <td>Why are South Indian dishes which are prepared by North Indians more tasty than dishes prepared by South Indian restaurants?</td>\n",
       "      <td>1</td>\n",
       "    </tr>\n",
       "  </tbody>\n",
       "</table>\n",
       "</div>"
      ],
      "text/plain": [
       "                      qid  \\\n",
       "22   0000e91571b60c2fb487   \n",
       "30   00013ceca3f624b09f42   \n",
       "110  0004a7fcb2bf73076489   \n",
       "114  00052793eaa287aff1e1   \n",
       "115  000537213b01fd77b58a   \n",
       "119  00056d45a1ce63856fc6   \n",
       "127  0005de07b07a17046e27   \n",
       "144  00068875d7c82a5bcf88   \n",
       "156  0006ffd99a6599ff35b3   \n",
       "167  00075f7061837807c69f   \n",
       "168  00076debbd82860ca33a   \n",
       "208  000983f5b226cca636f4   \n",
       "214  0009fcb845bb24de91f4   \n",
       "224  000a898565e80fe124bf   \n",
       "235  000b1f4cbc5c238a765d   \n",
       "260  000c44fe9b2822b25d77   \n",
       "286  000d9de4df8d6a31c248   \n",
       "289  000db4d0223af5dd9c5d   \n",
       "291  000db9603d16a6d9bb2e   \n",
       "302  000e67648fce55f011be   \n",
       "315  000f0266e12c3349db07   \n",
       "333  000f89527b907f3ef20f   \n",
       "362  0010b8bd37af629de2f9   \n",
       "397  0012bba774c13ce9cc9e   \n",
       "400  0012d72ccc14e9329f97   \n",
       "439  0014e0200bb280d44ea1   \n",
       "460  0015e367aa794e5d547f   \n",
       "496  00175f5e9c85b110614e   \n",
       "538  00199a473cba7b54d974   \n",
       "544  0019e01b2a7b09d3cb65   \n",
       "\n",
       "                                                                                                                                                                                                                            question_text  \\\n",
       "22   Has the United States become the largest dictatorship in the world?                                                                                                                                                                    \n",
       "30   Which babies are more sweeter to their parents? Dark skin babies or light skin babies?                                                                                                                                                 \n",
       "110  If blacks support school choice and mandatory sentencing for criminals why don't they vote Republican?                                                                                                                                 \n",
       "114  I am gay boy and I love my cousin (boy). He is sexy, but I dont know what to do. He is hot, and I want to see his di**. What should I do?                                                                                              \n",
       "115  Which races have the smallest penis?                                                                                                                                                                                                   \n",
       "119  Why do females find penises ugly?                                                                                                                                                                                                      \n",
       "127  How do I marry an American woman for a Green Card? How much do they charge?                                                                                                                                                            \n",
       "144  Why do Europeans say they're the superior race, when in fact it took them over 2,000 years until mid 19th century to surpass China's largest economy?                                                                                  \n",
       "156  Did Julius Caesar bring a tyrannosaurus rex on his campaigns to frighten the Celts into submission?                                                                                                                                    \n",
       "167  In what manner has Republican backing of 'states rights' been hypocritical and what ways have they actually restricted the ability of states to make their own laws?                                                                   \n",
       "168  Would Europeans continue to participate in the Arab war for the destruction of Israel and killing all the Jews, if they knew that god himself defends Israel and he will do to Europeans what the Arabs want to do to the Jews?        \n",
       "208  Why are Americans, British, Canadians, Australians and New Zealanders considered to be separate nations even when they all speak the same language?                                                                                    \n",
       "214  If both Honey Singh and Justin Bieber fall from the 5th floor, who will survive?                                                                                                                                                       \n",
       "224  Why are liberal minorities so voilent towards poeple with diffrent poltical beleifs? Should supporting trump be a sentence to be imprisoned or savegely attacked?                                                                      \n",
       "235  Can we all now admit that President Trump doesn't really want Congress to pass legislation replacing DACA to protect dreamers?                                                                                                         \n",
       "260  The American economy is growing under Trump’s presidency, why do people still hate Trump as a president?                                                                                                                               \n",
       "286  Why don't poor countries print more money to use for paying for education, etc.?                                                                                                                                                       \n",
       "289  Why do all the people who claim Florida has great weather go silent every time there's a new hurricane?                                                                                                                                \n",
       "291  Could the leader of Iran be dead many years ago and the leader of today's Iran is actually a fake leader?                                                                                                                              \n",
       "302  Why do the Liberals who run schools choose not to have controlled access? The kids in Florida were killed due to an unlocked door.                                                                                                     \n",
       "315  Why did Pakistan pass the Sikh Marriage Act before India?                                                                                                                                                                              \n",
       "333  How do I train my dogs to kill raccoons?                                                                                                                                                                                               \n",
       "362  Is there any woman (other than Muslim) who is happy after marrying a Muslim guy, as there are a lot of answers on Quora about love jihad, and all of them suffered a lot after marrying a Muslim guy?                                  \n",
       "397  Do moms have sex with their sons?                                                                                                                                                                                                      \n",
       "400  Why did the Pope say that \"Muslims are a curse to this world\"?                                                                                                                                                                         \n",
       "439  How peoples in India seems hypocritical about womans empowerment?                                                                                                                                                                      \n",
       "460  How much more political fumbling will it take for Republicans to turn on Trump?                                                                                                                                                        \n",
       "496  Why do Americans prefer just to not show up somewhere rather than face even the mildest of conflicts? (My colleagues and I have noted a growing number of people who skip any face to face meetings without any explanation at all.)   \n",
       "538  Liberals are pro-choice, but the choices must be approved by them first. Is this an accurate description of liberals?                                                                                                                  \n",
       "544  Why are South Indian dishes which are prepared by North Indians more tasty than dishes prepared by South Indian restaurants?                                                                                                           \n",
       "\n",
       "     target  \n",
       "22   1       \n",
       "30   1       \n",
       "110  1       \n",
       "114  1       \n",
       "115  1       \n",
       "119  1       \n",
       "127  1       \n",
       "144  1       \n",
       "156  1       \n",
       "167  1       \n",
       "168  1       \n",
       "208  1       \n",
       "214  1       \n",
       "224  1       \n",
       "235  1       \n",
       "260  1       \n",
       "286  1       \n",
       "289  1       \n",
       "291  1       \n",
       "302  1       \n",
       "315  1       \n",
       "333  1       \n",
       "362  1       \n",
       "397  1       \n",
       "400  1       \n",
       "439  1       \n",
       "460  1       \n",
       "496  1       \n",
       "538  1       \n",
       "544  1       "
      ]
     },
     "execution_count": 183,
     "metadata": {},
     "output_type": "execute_result"
    }
   ],
   "source": [
    "df_train.loc[df_train['target'] == 1].head(30)"
   ]
  },
  {
   "cell_type": "code",
   "execution_count": 56,
   "metadata": {},
   "outputs": [
    {
     "data": {
      "text/plain": [
       "((1306122,), (1306122,))"
      ]
     },
     "execution_count": 56,
     "metadata": {},
     "output_type": "execute_result"
    }
   ],
   "source": [
    "X = df_train.loc[:, 'question_text']\n",
    "y = df_train.loc[:, 'target']\n",
    "X.shape, y.shape"
   ]
  },
  {
   "cell_type": "code",
   "execution_count": 57,
   "metadata": {},
   "outputs": [
    {
     "data": {
      "text/plain": [
       "((653061,), (653061,), (653061,), (653061,))"
      ]
     },
     "execution_count": 57,
     "metadata": {},
     "output_type": "execute_result"
    }
   ],
   "source": [
    "X_train, X_test, y_train, y_test = train_test_split(X, y, test_size=.5, random_state=42, stratify=y)\n",
    "X_train.shape, y_train.shape, X_test.shape, y_test.shape"
   ]
  },
  {
   "cell_type": "code",
   "execution_count": 58,
   "metadata": {},
   "outputs": [
    {
     "data": {
      "text/plain": [
       "130809     Why did you become a data science manager and ...\n",
       "36523      Is it true that Mexicans are treated like seco...\n",
       "1109227    Why should I not see a psychiatrist who is rel...\n",
       "349685       Why does China want to capture other countries?\n",
       "341120     What has been your best patient interaction as...\n",
       "Name: question_text, dtype: object"
      ]
     },
     "execution_count": 58,
     "metadata": {},
     "output_type": "execute_result"
    }
   ],
   "source": [
    "X_train.head()"
   ]
  },
  {
   "cell_type": "code",
   "execution_count": 59,
   "metadata": {},
   "outputs": [],
   "source": [
    "df_train1 = df_train[df_train[\"target\"]==1]\n",
    "df_train0 = df_train[df_train[\"target\"]==0]"
   ]
  },
  {
   "cell_type": "code",
   "execution_count": 60,
   "metadata": {},
   "outputs": [
    {
     "data": {
      "text/plain": [
       "80810"
      ]
     },
     "execution_count": 60,
     "metadata": {},
     "output_type": "execute_result"
    }
   ],
   "source": [
    "len(df_train1['question_text'])"
   ]
  },
  {
   "cell_type": "code",
   "execution_count": 61,
   "metadata": {},
   "outputs": [
    {
     "data": {
      "text/plain": [
       "1225312"
      ]
     },
     "execution_count": 61,
     "metadata": {},
     "output_type": "execute_result"
    }
   ],
   "source": [
    "len(df_train0['question_text'])"
   ]
  },
  {
   "cell_type": "code",
   "execution_count": 62,
   "metadata": {},
   "outputs": [
    {
     "data": {
      "text/plain": [
       "80810"
      ]
     },
     "execution_count": 62,
     "metadata": {},
     "output_type": "execute_result"
    }
   ],
   "source": [
    "len(df_train.loc[df_train['target'] == 1]['question_text'])"
   ]
  },
  {
   "cell_type": "code",
   "execution_count": 63,
   "metadata": {},
   "outputs": [
    {
     "data": {
      "text/plain": [
       "str"
      ]
     },
     "execution_count": 63,
     "metadata": {},
     "output_type": "execute_result"
    }
   ],
   "source": [
    "#text = str(df_train['question_text'])\n",
    "text_insincere = str(df_train1['question_text'])\n",
    "type(text_insincere)"
   ]
  },
  {
   "cell_type": "code",
   "execution_count": 64,
   "metadata": {},
   "outputs": [],
   "source": [
    "df_train[\"quest_len\"] = df_train[\"question_text\"].apply(lambda x: len(x))"
   ]
  },
  {
   "cell_type": "code",
   "execution_count": 65,
   "metadata": {},
   "outputs": [
    {
     "data": {
      "text/plain": [
       "72"
      ]
     },
     "execution_count": 65,
     "metadata": {},
     "output_type": "execute_result"
    }
   ],
   "source": [
    "df_train[\"quest_len\"][0]"
   ]
  },
  {
   "cell_type": "code",
   "execution_count": 66,
   "metadata": {},
   "outputs": [
    {
     "name": "stderr",
     "output_type": "stream",
     "text": [
      "/Users/hellososo/bin/anaconda/lib/python3.6/site-packages/scipy/stats/stats.py:1713: FutureWarning: Using a non-tuple sequence for multidimensional indexing is deprecated; use `arr[tuple(seq)]` instead of `arr[seq]`. In the future this will be interpreted as an array index, `arr[np.array(seq)]`, which will result either in an error or a different result.\n",
      "  return np.add.reduce(sorted[indexer] * weights, axis=axis) / sumval\n"
     ]
    },
    {
     "data": {
      "image/png": "[encoded data removed]",
      "text/plain": [
       "<Figure size 1080x576 with 1 Axes>"
      ]
     },
     "metadata": {},
     "output_type": "display_data"
    }
   ],
   "source": [
    "sincere = df_train[df_train[\"target\"] == 0]\n",
    "insincere = df_train[df_train[\"target\"] == 1]\n",
    "\n",
    "plt.figure(figsize = (15, 8))\n",
    "sns.distplot(sincere[\"quest_len\"], bins = 50, label = \"Sincere\")\n",
    "sns.distplot(insincere[\"quest_len\"], bins = 50, label = \"Insincere\")\n",
    "plt.legend(fontsize = 10)\n",
    "plt.show()\n"
   ]
  },
  {
   "cell_type": "code",
   "execution_count": null,
   "metadata": {},
   "outputs": [],
   "source": []
  },
  {
   "cell_type": "code",
   "execution_count": 81,
   "metadata": {},
   "outputs": [],
   "source": [
    "#thanks to https://www.kaggle.com/kaosmonkey/visualize-sincere-vs-insincere-words\n",
    "class Vocabulary(object):\n",
    "    \n",
    "    def __init__(self):\n",
    "        self.vocab = {}\n",
    "        self.STOPWORDS = set()\n",
    "        self.STOPWORDS = set(stopwords.words('english'))\n",
    "        \n",
    "    def build_vocab(self, lines):\n",
    "        for line in lines:\n",
    "            for word in line.split(' '):\n",
    "                word = word.lower()\n",
    "                if (word in self.STOPWORDS):\n",
    "                    continue\n",
    "                if (word not in self.vocab):\n",
    "                    self.vocab[word] = 0\n",
    "                self.vocab[word] +=1 \n",
    "    \n",
    "    def generate_ngrams(text, n_gram=1):\n",
    "        \"\"\"arg: text, n_gram\"\"\"\n",
    "        token = [token for token in text.lower().split(\" \") if token != \"\" if token not in STOPWORDS]\n",
    "        ngrams = zip(*[token[i:] for i in range(n_gram)])\n",
    "        return [\" \".join(ngram) for ngram in ngrams]\n",
    "    \n",
    "    def horizontal_bar_chart(df, color):\n",
    "        trace = go.Bar(\n",
    "            y=df[\"word\"].values[::-1],\n",
    "            x=df[\"wordcount\"].values[::-1],\n",
    "            showlegend=False,\n",
    "            orientation = 'h',\n",
    "            marker=dict(\n",
    "            color=color,\n",
    "            ),\n",
    "        )\n",
    "        return trace"
   ]
  },
  {
   "cell_type": "code",
   "execution_count": 187,
   "metadata": {},
   "outputs": [
    {
     "name": "stdout",
     "output_type": "stream",
     "text": [
      "best 60816\n",
      "get 58731\n",
      "would 57105\n",
      "people 37960\n",
      "like 37618\n"
     ]
    }
   ],
   "source": [
    "sincere_vocab = Vocabulary()\n",
    "sincere_vocab.build_vocab(df_train[df_train['target'] == 0]['question_text'])\n",
    "sincere_vocabulary = sorted(sincere_vocab.vocab.items(), reverse=True, key=lambda kv: kv[1])\n",
    "for word, count in sincere_vocabulary[:5]:\n",
    "    print(word, count)"
   ]
  },
  {
   "cell_type": "code",
   "execution_count": 188,
   "metadata": {},
   "outputs": [
    {
     "name": "stdout",
     "output_type": "stream",
     "text": [
      "people 11036\n",
      "like 5708\n",
      "trump 4893\n",
      "women 4757\n",
      "would 4126\n"
     ]
    }
   ],
   "source": [
    "insincere_vocab = Vocabulary()\n",
    "insincere_vocab.build_vocab(df_train[df_train['target'] == 1]['question_text'])\n",
    "insincere_vocabulary = sorted(insincere_vocab.vocab.items(), reverse=True, key=lambda kv: kv[1])\n",
    "for word, count in insincere_vocabulary[:5]:\n",
    "    print(word, count)"
   ]
  },
  {
   "cell_type": "code",
   "execution_count": 70,
   "metadata": {},
   "outputs": [
    {
     "data": {
      "text/html": [
       "<div>\n",
       "<style scoped>\n",
       "    .dataframe tbody tr th:only-of-type {\n",
       "        vertical-align: middle;\n",
       "    }\n",
       "\n",
       "    .dataframe tbody tr th {\n",
       "        vertical-align: top;\n",
       "    }\n",
       "\n",
       "    .dataframe thead th {\n",
       "        text-align: right;\n",
       "    }\n",
       "</style>\n",
       "<table border=\"1\" class=\"dataframe\">\n",
       "  <thead>\n",
       "    <tr style=\"text-align: right;\">\n",
       "      <th></th>\n",
       "      <th>word_sincere</th>\n",
       "      <th>frequency</th>\n",
       "    </tr>\n",
       "  </thead>\n",
       "  <tbody>\n",
       "    <tr>\n",
       "      <th>0</th>\n",
       "      <td>best</td>\n",
       "      <td>60816</td>\n",
       "    </tr>\n",
       "    <tr>\n",
       "      <th>1</th>\n",
       "      <td>get</td>\n",
       "      <td>58731</td>\n",
       "    </tr>\n",
       "    <tr>\n",
       "      <th>2</th>\n",
       "      <td>would</td>\n",
       "      <td>57105</td>\n",
       "    </tr>\n",
       "    <tr>\n",
       "      <th>3</th>\n",
       "      <td>people</td>\n",
       "      <td>37960</td>\n",
       "    </tr>\n",
       "    <tr>\n",
       "      <th>4</th>\n",
       "      <td>like</td>\n",
       "      <td>37618</td>\n",
       "    </tr>\n",
       "  </tbody>\n",
       "</table>\n",
       "</div>"
      ],
      "text/plain": [
       "  word_sincere  frequency\n",
       "0         best      60816\n",
       "1          get      58731\n",
       "2        would      57105\n",
       "3       people      37960\n",
       "4         like      37618"
      ]
     },
     "execution_count": 70,
     "metadata": {},
     "output_type": "execute_result"
    }
   ],
   "source": [
    "df_sincere_vocab = pd.DataFrame(sincere_vocabulary, columns=['word_sincere', 'frequency'])\n",
    "df_sincere_vocab.head()"
   ]
  },
  {
   "cell_type": "code",
   "execution_count": 71,
   "metadata": {},
   "outputs": [
    {
     "data": {
      "text/html": [
       "<div>\n",
       "<style scoped>\n",
       "    .dataframe tbody tr th:only-of-type {\n",
       "        vertical-align: middle;\n",
       "    }\n",
       "\n",
       "    .dataframe tbody tr th {\n",
       "        vertical-align: top;\n",
       "    }\n",
       "\n",
       "    .dataframe thead th {\n",
       "        text-align: right;\n",
       "    }\n",
       "</style>\n",
       "<table border=\"1\" class=\"dataframe\">\n",
       "  <thead>\n",
       "    <tr style=\"text-align: right;\">\n",
       "      <th></th>\n",
       "      <th>word_insincere</th>\n",
       "      <th>frequency</th>\n",
       "    </tr>\n",
       "  </thead>\n",
       "  <tbody>\n",
       "    <tr>\n",
       "      <th>0</th>\n",
       "      <td>people</td>\n",
       "      <td>11036</td>\n",
       "    </tr>\n",
       "    <tr>\n",
       "      <th>1</th>\n",
       "      <td>like</td>\n",
       "      <td>5708</td>\n",
       "    </tr>\n",
       "    <tr>\n",
       "      <th>2</th>\n",
       "      <td>trump</td>\n",
       "      <td>4893</td>\n",
       "    </tr>\n",
       "    <tr>\n",
       "      <th>3</th>\n",
       "      <td>women</td>\n",
       "      <td>4757</td>\n",
       "    </tr>\n",
       "    <tr>\n",
       "      <th>4</th>\n",
       "      <td>would</td>\n",
       "      <td>4126</td>\n",
       "    </tr>\n",
       "  </tbody>\n",
       "</table>\n",
       "</div>"
      ],
      "text/plain": [
       "  word_insincere  frequency\n",
       "0         people      11036\n",
       "1           like       5708\n",
       "2          trump       4893\n",
       "3          women       4757\n",
       "4          would       4126"
      ]
     },
     "execution_count": 71,
     "metadata": {},
     "output_type": "execute_result"
    }
   ],
   "source": [
    "df_insincere_vocab = pd.DataFrame(insincere_vocabulary, columns=['word_insincere', 'frequency'])\n",
    "df_insincere_vocab.head()"
   ]
  },
  {
   "cell_type": "code",
   "execution_count": 72,
   "metadata": {},
   "outputs": [
    {
     "data": {
      "image/png": "[encoded data removed]",
      "text/plain": [
       "<Figure size 432x288 with 1 Axes>"
      ]
     },
     "metadata": {},
     "output_type": "display_data"
    }
   ],
   "source": [
    "ax1 = sns.barplot(y='word_sincere', x='frequency', data=df_sincere_vocab[:20])\n",
    "ax1.set_xlabel('word_sincere');"
   ]
  },
  {
   "cell_type": "code",
   "execution_count": 73,
   "metadata": {},
   "outputs": [
    {
     "data": {
      "image/png": "[encoded data removed]",
      "text/plain": [
       "<Figure size 432x288 with 1 Axes>"
      ]
     },
     "metadata": {},
     "output_type": "display_data"
    }
   ],
   "source": [
    "ax2 = sns.barplot(y='word_insincere', x='frequency', data=df_insincere_vocab[:20])\n",
    "ax2.set_xlabel('word_insincere');"
   ]
  },
  {
   "cell_type": "code",
   "execution_count": 74,
   "metadata": {},
   "outputs": [],
   "source": [
    "stopwords = set(stopwords.words(\"english\"))"
   ]
  },
  {
   "cell_type": "code",
   "execution_count": 75,
   "metadata": {},
   "outputs": [
    {
     "data": {
      "text/plain": [
       "<wordcloud.wordcloud.WordCloud at 0x1a3dbadda0>"
      ]
     },
     "execution_count": 75,
     "metadata": {},
     "output_type": "execute_result"
    }
   ],
   "source": [
    "wordcloud = WordCloud(background_color='black',\n",
    "                    stopwords = stopwords,\n",
    "                    random_state = 43,\n",
    "                    width=800, \n",
    "                    height=400)\n",
    "wordcloud"
   ]
  },
  {
   "cell_type": "code",
   "execution_count": 76,
   "metadata": {},
   "outputs": [
    {
     "data": {
      "text/plain": [
       "<wordcloud.wordcloud.WordCloud at 0x1a3dbadda0>"
      ]
     },
     "execution_count": 76,
     "metadata": {},
     "output_type": "execute_result"
    }
   ],
   "source": [
    "wordcloud.generate(text_insincere)"
   ]
  },
  {
   "cell_type": "code",
   "execution_count": 77,
   "metadata": {},
   "outputs": [
    {
     "data": {
      "image/png": "[encoded data removed]",
      "text/plain": [
       "<Figure size 864x576 with 1 Axes>"
      ]
     },
     "metadata": {},
     "output_type": "display_data"
    }
   ],
   "source": [
    "plt.figure(figsize=(12,8))\n",
    "plt.imshow(wordcloud);"
   ]
  },
  {
   "cell_type": "code",
   "execution_count": 78,
   "metadata": {},
   "outputs": [
    {
     "data": {
      "text/html": [
       "<div>\n",
       "<style scoped>\n",
       "    .dataframe tbody tr th:only-of-type {\n",
       "        vertical-align: middle;\n",
       "    }\n",
       "\n",
       "    .dataframe tbody tr th {\n",
       "        vertical-align: top;\n",
       "    }\n",
       "\n",
       "    .dataframe thead th {\n",
       "        text-align: right;\n",
       "    }\n",
       "</style>\n",
       "<table border=\"1\" class=\"dataframe\">\n",
       "  <thead>\n",
       "    <tr style=\"text-align: right;\">\n",
       "      <th></th>\n",
       "      <th>qid</th>\n",
       "      <th>question_text</th>\n",
       "      <th>target</th>\n",
       "    </tr>\n",
       "  </thead>\n",
       "  <tbody>\n",
       "    <tr>\n",
       "      <th>22</th>\n",
       "      <td>0000e91571b60c2fb487</td>\n",
       "      <td>Has the United States become the largest dicta...</td>\n",
       "      <td>1</td>\n",
       "    </tr>\n",
       "    <tr>\n",
       "      <th>30</th>\n",
       "      <td>00013ceca3f624b09f42</td>\n",
       "      <td>Which babies are more sweeter to their parents...</td>\n",
       "      <td>1</td>\n",
       "    </tr>\n",
       "    <tr>\n",
       "      <th>110</th>\n",
       "      <td>0004a7fcb2bf73076489</td>\n",
       "      <td>If blacks support school choice and mandatory ...</td>\n",
       "      <td>1</td>\n",
       "    </tr>\n",
       "    <tr>\n",
       "      <th>114</th>\n",
       "      <td>00052793eaa287aff1e1</td>\n",
       "      <td>I am gay boy and I love my cousin (boy). He is...</td>\n",
       "      <td>1</td>\n",
       "    </tr>\n",
       "    <tr>\n",
       "      <th>115</th>\n",
       "      <td>000537213b01fd77b58a</td>\n",
       "      <td>Which races have the smallest penis?</td>\n",
       "      <td>1</td>\n",
       "    </tr>\n",
       "  </tbody>\n",
       "</table>\n",
       "</div>"
      ],
      "text/plain": [
       "                      qid                                      question_text  \\\n",
       "22   0000e91571b60c2fb487  Has the United States become the largest dicta...   \n",
       "30   00013ceca3f624b09f42  Which babies are more sweeter to their parents...   \n",
       "110  0004a7fcb2bf73076489  If blacks support school choice and mandatory ...   \n",
       "114  00052793eaa287aff1e1  I am gay boy and I love my cousin (boy). He is...   \n",
       "115  000537213b01fd77b58a               Which races have the smallest penis?   \n",
       "\n",
       "     target  \n",
       "22        1  \n",
       "30        1  \n",
       "110       1  \n",
       "114       1  \n",
       "115       1  "
      ]
     },
     "execution_count": 78,
     "metadata": {},
     "output_type": "execute_result"
    }
   ],
   "source": [
    "df_train1.head()"
   ]
  },
  {
   "cell_type": "code",
   "execution_count": 79,
   "metadata": {},
   "outputs": [
    {
     "data": {
      "text/plain": [
       "0    How did Quebec nationalists see their province...\n",
       "1    Do you have an adopted dog, how would you enco...\n",
       "2    Why does velocity affect time? Does velocity a...\n",
       "3    How did Otto von Guericke used the Magdeburg h...\n",
       "4    Can I convert montra helicon D to a mountain b...\n",
       "Name: question_text, dtype: object"
      ]
     },
     "execution_count": 79,
     "metadata": {},
     "output_type": "execute_result"
    }
   ],
   "source": [
    "text = df_train.loc[:, 'question_text']\n",
    "text.head()"
   ]
  },
  {
   "cell_type": "code",
   "execution_count": 36,
   "metadata": {},
   "outputs": [
    {
     "data": {
      "text/plain": [
       "<spacy.lang.en.English at 0x1a1fc0a208>"
      ]
     },
     "execution_count": 36,
     "metadata": {},
     "output_type": "execute_result"
    }
   ],
   "source": [
    "nlp = spacy.load('en_core_web_sm',disable=['parser','ner'])\n",
    "nlp"
   ]
  },
  {
   "cell_type": "code",
   "execution_count": 37,
   "metadata": {},
   "outputs": [
    {
     "name": "stdout",
     "output_type": "stream",
     "text": [
      "CPU times: user 7 µs, sys: 1 µs, total: 8 µs\n",
      "Wall time: 11 µs\n"
     ]
    }
   ],
   "source": [
    "%%time\n",
    "spacy_docs = nlp.pipe(X_train)\n",
    "spacy_docs"
   ]
  },
  {
   "cell_type": "code",
   "execution_count": 38,
   "metadata": {},
   "outputs": [
    {
     "name": "stdout",
     "output_type": "stream",
     "text": [
      "CPU times: user 15min 53s, sys: 3min 33s, total: 19min 27s\n",
      "Wall time: 15h 31min 31s\n"
     ]
    }
   ],
   "source": [
    "%%time\n",
    "lst = list(spacy_docs)\n",
    "lst[1]"
   ]
  },
  {
   "cell_type": "code",
   "execution_count": 39,
   "metadata": {},
   "outputs": [
    {
     "data": {
      "text/plain": [
       "True"
      ]
     },
     "execution_count": 39,
     "metadata": {},
     "output_type": "execute_result"
    }
   ],
   "source": [
    "lst[1][12].is_stop"
   ]
  },
  {
   "cell_type": "code",
   "execution_count": 40,
   "metadata": {},
   "outputs": [
    {
     "data": {
      "text/plain": [
       "[['why',\n",
       "  'do',\n",
       "  'you',\n",
       "  'become',\n",
       "  'a',\n",
       "  'data',\n",
       "  'science',\n",
       "  'manager',\n",
       "  'and',\n",
       "  'stop',\n",
       "  'be',\n",
       "  'an',\n",
       "  'individual',\n",
       "  'contributor',\n",
       "  '?']]"
      ]
     },
     "execution_count": 40,
     "metadata": {},
     "output_type": "execute_result"
    }
   ],
   "source": [
    "spacy_docs = nlp.pipe(X_train)\n",
    "lemmas = [[t.lemma_ if t.lemma_ != \"-PRON-\" else t.text for t in lst] for lst in spacy_docs]\n",
    "lemmas[:1]"
   ]
  },
  {
   "cell_type": "code",
   "execution_count": 41,
   "metadata": {},
   "outputs": [
    {
     "data": {
      "text/plain": [
       "['why do you become a data science manager and stop be an individual contributor ?',\n",
       " 'be it true that mexicans be treat like second class citizen in the united states ?',\n",
       " 'why should I not see a psychiatrist who be relate to me ?',\n",
       " 'why do china want to capture other country ?',\n",
       " 'what have be your good patient interaction as a doctor ?',\n",
       " 'how can I remove semi - permanent blue hair dye from my naturally blonde hair ?',\n",
       " 'where we find dr roy chaudhary network analysis e book in pdf ?',\n",
       " 'someone from other state register a fake case of accident by my vehicle and they be ask for money as compensation for his death , so what should we do ?',\n",
       " 'why the journalistic value be decline around the world as medium report bias opinion instead of fact ?',\n",
       " 'as a minor , can I get test for depression without my family find out ?',\n",
       " 'how do I sprout chilli seed ?',\n",
       " 'how do you train a havanese puppy ?',\n",
       " 'be there a reasonably repeatable path to take if you want to become a ceo of company ?',\n",
       " 'what be good , brush up your coding skill or prepare for gate ?',\n",
       " 'how be your clat 2017 preparation go on ?',\n",
       " 'what be the difference between d ( some number ) and ∆ ( some number ) ?',\n",
       " 'how do kidney failure feel like ?',\n",
       " 'if a woman want to \" hook up \" in a date app or a bar or club , be she aim toward the hot guy , or the guy she connect with socially ?',\n",
       " 'where can you buy 400 km² land in india ?',\n",
       " 'how much minimum salary be require for survial in india ?',\n",
       " 'how be butane gas obtain ?',\n",
       " 'what advice would you give to someone who be move to auckland , new zealand ?',\n",
       " 'why do twp identical bulb do not produce interference ?',\n",
       " 'what would I express reactive anger , even though I do not feel angry ?',\n",
       " 'why do people deactivate instagram account ?',\n",
       " 'have any one get a link relevant to water cad software ?',\n",
       " 'what be the good app for take raw photo with new iphone model ?',\n",
       " 'when be tiger cub bear ?',\n",
       " 'what be the good way of learn on page seo ?',\n",
       " 'do you have to purchase a plan when buy an iphone ?',\n",
       " 'be it ever a good idea to take thing slow ?',\n",
       " 'be it weird for a 17-year old boy like a girl that be 3/4 year young ?',\n",
       " 'what be the little daily life thing we do that play a major role in build our subconscious ?',\n",
       " 'if an american move to uk , ireland , australia or new zealand , and always categorise people by race and talk about race since they grow up with this be normal in usa , would the people in the adopt country find them odd ?',\n",
       " 'what be some of the most trend way to earn money online ?',\n",
       " 'what be the kingfisher case ?',\n",
       " 'how can l sell product to the usa ?',\n",
       " 'how do the norad toilet work ?',\n",
       " 'what be the good formation to use in fifa mobile if I have a team with 90 ovr ?',\n",
       " 'I have have an idea for a website for over 5 year . I lack the skill to create it myself . be there a place I can hire a team to build it for me ?',\n",
       " 'how much content can I watch in a day on netflix with 1 gb datum ?',\n",
       " 'what be the eligiblity for master in history ?',\n",
       " 'how do serotonin improve memory ?',\n",
       " 'what be the most difficult book from the victorian era ?',\n",
       " 'what be the bad first - person shooter game you have ever play ?',\n",
       " 'what be precept in the bible ?',\n",
       " 'how do you got into spa delhi ?',\n",
       " 'what will happen if someone swallow the mercury present in a thermometer ?',\n",
       " 'what be some great fact about indian king ?',\n",
       " 'how do I cut calorie without feel numb all the time ?',\n",
       " 'what be some example of mountain range ?',\n",
       " 'be there any indian restaurant in istanbul ?',\n",
       " 'how can you prevent itchy and fluid - fill bump on your foot ?',\n",
       " 'which smartphone be good ? oppo a83 or huawei y5 2017',\n",
       " 'be it good to colonize ghana ?',\n",
       " 'what have you do as an individual to eliminate corruption from your society ?',\n",
       " 'can people have obsessive personality other than ocd ; people who obsess over something they can not have rather than try to avoid something , such as germ , as with people with ocd ? can one be obsessive by nature without have compulsion ?',\n",
       " 'who invent twin flame ?',\n",
       " 'why artery be not choosen for cannulation ?',\n",
       " 'be it ethical and/or legal for therapist to video conference with collaborate therapist if they need to discuss a share patient ? do it violate hippa or any code of ethics ?',\n",
       " 'I apply for fafsa and receive some aid , but not enough . I have a job that help but I still need more . where else can I apply ?',\n",
       " 'be the uk conservative party guilty of state - sponsor genocide against the sick and disabled ?',\n",
       " 'which post be in mpsc for civil engineer graduate ?',\n",
       " 'what do vietnamese thinkabout pakistan ?',\n",
       " 'what be the photosynthesis reaction step ?',\n",
       " 'how long should a 2012 toyota camry starter last ? how many mile ?',\n",
       " 'why do I feel good when I be sad ?',\n",
       " 'which be your favourite hindi christian song ?',\n",
       " 'do people with bpd wish that other people could just understand what it be that their go through ?',\n",
       " \"be it sexist if a man tell you ' well if you can not find a job , you can still be a prostitute ' ?\",\n",
       " 'be it a good idea to document your life by blogg ?',\n",
       " 'what do it take to be an optimist ?',\n",
       " 'how long do it take for wage garnishment to resume after a company buyout , if you be still employ ?',\n",
       " 'as a post man , what ’ the weird thing you have ever find in a post box ?',\n",
       " 'how do I get more traffic on my website without spamm , ad and social medium ?',\n",
       " 'what would be the impact on cbse check for class 12th due to paper leak ?',\n",
       " 'be girl into foot fetish ?',\n",
       " 'could the notion that russians hack our election be a cover up for fabricate polling that falsely show hillary lead ?',\n",
       " \"what do indian muslims think about the supreme court 's decision on triple talaq ?\",\n",
       " 'what be reciprocal cross ?',\n",
       " 'be the world go to be stupid in the future ?',\n",
       " 'why should I have to have an i.d to vote ? just because I be not white ?',\n",
       " 'can you leave an instant pot full of soup off overnight ?',\n",
       " 'what be the funniest thing you have ever do for the camera while rid a roller coaster ?',\n",
       " 'what creative feature do you think be good for a good house rental calssifi website ?',\n",
       " 'why be iron magnetic substance ?',\n",
       " 'should I follow my friend if I know they be be sexual abused when they go to a \" friend \\'s \" house just to be sure of what be happen even if this may broke my friend \\'s trust on me ?',\n",
       " 'what can happen if there be no space more ( 0 kb ) in my primary disk ?',\n",
       " 'what be the good book to learn about corporate law in india as well as global context ?',\n",
       " 'how can I dismantle a remington 308 pump action rifle ?',\n",
       " 'as you be get old , do you believe the christmas season become less memorable ?',\n",
       " 'how can I promote our service which look not so competitive for them ? ( game art outsourcing service )',\n",
       " 'if I play the lotto , be the win combination of 1,2,3,4,5,6 just as likely as any other combination out of 1 to 50 ?',\n",
       " \"what be the importance of aristotle 's theory of universal ?\",\n",
       " 'what I write for admission in school ?',\n",
       " 'can your maxilla actually grow upward and toward if you put your tounge on the roof of your mouth ?',\n",
       " 'can anyone post something positive about bangalore university ?',\n",
       " 'why be the mass so obsess with disney world ?',\n",
       " 'what be some quality of someone who be well - read ?',\n",
       " 'what would you do if a roommate belittle you ?',\n",
       " \"what be leonor michaelis ' major accomplishment ?\",\n",
       " 'what should one do if a woman implicate you him in a false rape case ?',\n",
       " 'what do buddha say about mourn ?',\n",
       " 'how can I make a pinny jersey ?',\n",
       " 'what be your favorite root beer brand ?',\n",
       " 'how many reject takeoff have you experience as a commercial pilot ?',\n",
       " 'what be verifocal lenz camera range ?',\n",
       " 'how can I as a native english speaker understand imperfective and perfective russian past tense verb ?',\n",
       " 'what kind of youtube video do you like to watch ?',\n",
       " 'how do authoritarian parent treat their kid in public ?',\n",
       " 'what be the importance or need of cooperative society ?',\n",
       " 'how do helen verran contribute to the field of philosophy ?',\n",
       " 'be wasserstein an ashkenazi surname ?',\n",
       " 'how can we complain against an obc student if he / she be take the reservation give to nc - obc , give he / she come under creamy layer ?',\n",
       " 'why be my airtel net so slow while download but fast in other case ?',\n",
       " 'what do it mean when you get rib pain when breathing ?',\n",
       " 'on what factor do the resistanceof wire depend ? hence define restivity ?',\n",
       " 'how can I be a good field door to door salesman and convince the person to buy the product ?',\n",
       " 'what be a good way to mobilize a successful democratic campaign in a republican state ?',\n",
       " 'should general candidate commit mass suicide altogether ? what be kcr and trs try to achieve , if not play communal politic ?',\n",
       " 'if I fire a bullet retrograde from the international space station , would the bullet deorbit ?',\n",
       " 'why would my therapist not tell me about the concept of transference after I tell her about my feeling of love and attraction for her ?',\n",
       " 'what would be the good fruit / vegetable to put into my juic machine ?',\n",
       " 'be there any real info out about star wars : underworld , suppose live - action series slat for 2018 ?',\n",
       " 'be there any circuit that give a high voltage on a voltmeter if the temeperature increase ? ( use thermistor )',\n",
       " 'be pontius pilate punish for his failure to execute jesus ?',\n",
       " 'can sibling hug each other in school ?',\n",
       " 'besides geographical area , be there any technological difference between lan , man , wan ?',\n",
       " 'how can a college kid break into own commercial real estate ?',\n",
       " 'what be the most disturbing thing buy and sell on the deep / dark web ?',\n",
       " 'have you join a dummy school during your jee preparation ?',\n",
       " 'what be your one wish ?',\n",
       " 'how do it feel to penetrate the vagina of a horse ?',\n",
       " 'be acetic acid tribasic ?',\n",
       " 'how much of my brain would I have to scoop out to lose a memory ?',\n",
       " 'how can I reuse toilet paper roll , plastic floss stick , plastic wrapper etc ?',\n",
       " 'how do such an offensive ad end up on snapchat ?',\n",
       " 'what be a vehicle reference number ?',\n",
       " 'how long from germany to australia ?',\n",
       " 'what do it mean if a guy suddenly hold up your wrist in front of people who know one another ? He smile and let go after some 20 , 30 second while I star at him dumbfound and surprised .',\n",
       " 'be stephen king the good ? do you know any author who be a level up than stephen king ?',\n",
       " 'do vajiram and ravi start their coaching from the basic ?',\n",
       " 'how do you make dress longer ?',\n",
       " 'be anyone interested in chinese ?',\n",
       " 'what be some of the incident happen in your life , which you will remember forever ?',\n",
       " 'when someone repeat in isc exam what happen to the previous mark sheet and previous mark ?',\n",
       " 'I have a guitar , can I bring it from dubai to india ?',\n",
       " 'be it possible to change the maximum number of answer request on quora ?',\n",
       " 'be there anywhere that do really good grill chicken in madrid ?',\n",
       " 'why be cos lettuce better for freezing than other type of lettuce ?',\n",
       " \"how be sean connery 's name pronounce ?\",\n",
       " 'I want to make more beautiful website and app . could anyone recommend me book or other source on design principle ?',\n",
       " 'what inspire dennis gillings to find iqvia ?',\n",
       " 'why be I so angry at everyone all the time ?',\n",
       " 'what be the good site to learn english grammar ?',\n",
       " 'I find this coin . turn out its super rare , what do I do ?',\n",
       " 'I be expect 90 in phy , 92 in chem and 80 in maths in cbse xii . will I get more than I be expect ?',\n",
       " 'what be the real scenario in placement of a tier 3 college beside those inspirational and motivational remark ?',\n",
       " 'hypothetically , what would happen if a black hole collide with a white hole ?',\n",
       " 'which pizza taste better , pizza hut or domino ’s pizza ?',\n",
       " \"if we drop ' om ' from the mantra ' om namah shivay ' and chant only ' namah shivay ' , will the meaning change ?\",\n",
       " 'would you rather wear a hat or a visor on the golf course ?',\n",
       " 'be one sided love worth ?',\n",
       " 'how do I raise fund for a social venture ?',\n",
       " 'be the newly unveil russian nuclear cruise missile similar to the american project pluto nuclear cruise missile ?',\n",
       " 'how big a land holding can a corporation hold in india ?',\n",
       " 'what be the difference between a trade company and a broker of any type ?',\n",
       " 'why be that I fear feeling ?',\n",
       " 'what be some water base milk you could substitute milk with when bake or cooking ?',\n",
       " 'what be the good final mission of gta v in your opinion ?',\n",
       " 'what should I do if my wife frequently grope my son and sleep in the same bed with him ?',\n",
       " \"do you frequently mess with your friend 's head ?\",\n",
       " 'how can I start a call center for my own business in india ?',\n",
       " 'how can you focus better on understand concept rather than memorise and replicate them in exam ( mainstream answer be not require ) ?',\n",
       " 'would you like to see proof that quora persecute christians ?',\n",
       " 'why can not baby turn on male milk tap like they can female milk tap ? how can I teach my son to drink my milk instead ?',\n",
       " 'how much stipend be provide by iisc during m.tech ?',\n",
       " 'how do you bypass the different part of armor and protective gear during combat ?',\n",
       " \"what be nevada 's major city ?\",\n",
       " 'how can I make the most out of live in mumbai ?',\n",
       " 'how do I prepare schedule of rate for a road work project in detail ?',\n",
       " 'be there any way a company can use its logo for its quora blog ?',\n",
       " \"what be the difference if a convex lens be keep or not in between the slit and screen in a young 's double slit experiment ?\",\n",
       " 'what be some of the review of bootcamp organize by cloudxlab.com ?',\n",
       " 'how do I make my sfx wound gorier ?',\n",
       " 'should I drink a beer around my crush ?',\n",
       " \"be kirchhoff 's voltage law applicable to non conservative field ?\",\n",
       " 'be it fun to play with poop ?',\n",
       " 'how do worm survive in the winter ?',\n",
       " 'if photon have no mass , do that mean they have no kinetic energy ?',\n",
       " 'how do I start a multinational global giant ?',\n",
       " \"I be try to teach myself how to sing and the big problem I be have be transition from ' head voice ' to ' chest voice ' and vice versa . what advice do you have on this issue ?\",\n",
       " \"why do joma sison , the philippines ' communist party founder choose the netherlands , instead of ussr , dprk ?\",\n",
       " 'what individual or group in russia be look to the west ? what type of change do they want ? why be the reform movement in russia unsuccessful ?',\n",
       " \"why do muslims cite a single line of quran ' if you kill one innocent human be it be like kill entire humanity ' in every discussion relate to islamic terrorism while neglect other violent verse ?\",\n",
       " 'how do I add some kind of animation in android ?',\n",
       " 'what if franco never rule spain ?',\n",
       " 'be there any master course relate to environment in canada ?',\n",
       " 'why be not there western democracy in russia after the fall of the soviet union ?',\n",
       " 'what could we benefit from if we create hybrid ?',\n",
       " 'how doi pick the right muzzel brake ?',\n",
       " 'have play counter strike improve your real life awareness around urban surrounding ?',\n",
       " 'what ’ your favorite color 911 , no matter then generation ?',\n",
       " 'be the main appeal of the us for canadians the warm climate ?',\n",
       " 'will the leftist ideology take over the western world ?',\n",
       " 'be sophocle and aeschylus actor ?',\n",
       " 'do communal politic of religion in india today extend violent history of oppression via negative discrimination base on caste or class or religious sect in early millennia in the region ?',\n",
       " 'should I get a will write from my wife about her property ?',\n",
       " 'be donald trump the big slut of a president in the history of the united states ?',\n",
       " 'what be some harsh truth about belong to a reserved category ?',\n",
       " 'what be your experience after your parent die ?',\n",
       " 'what s \" here to stay \" in japanese ?',\n",
       " 'what do you mean by anion ?',\n",
       " 'how do byakuya kuchiki zanpakuto overpower other zanpakutos in the anime ?',\n",
       " 'be there a device that combine a window fan and air conditioner ?',\n",
       " 'what do eid al kabir mean ?',\n",
       " 'how about study and rag in amity university ?',\n",
       " 'what be the relationship between the huge japanese number in the cult of north korean self - proclaim lsa sun myung moon and the japanese yakuza ?',\n",
       " 'how far away be the eu from stop muslim immigration and accept refugee ?',\n",
       " 'how would I be able to hack in c # ?',\n",
       " 'should I start a youtube channel for gaming or be it a waste of time ?',\n",
       " 'how much mark be require in bitsat 2017 to get ece/ eee in bits goa ?',\n",
       " 'be there any special tag to rank higher in apple news ?',\n",
       " 'what be the applied force of equation ?',\n",
       " 'what be some of karla montana accomplishment as an actress ?',\n",
       " 'do health of girl improve after lose virginity / first night after marriage ?',\n",
       " 'when be ms excel program ?',\n",
       " 'do people who live on island contract few contagious disease ? do their relative isolation protect them ?',\n",
       " 'why be arab country with a king thrive , while arab country where the west try to impose democracy be at war ? be kingship the only way to rule the arabs ?',\n",
       " 'be concatenate an onomatopoeia ?',\n",
       " 'be it that difficult for law enforcement authority to register themselves as teenager and track down the blue whale game perpetrator ?',\n",
       " 'what be the early season challenge for the detroit pistons in the 2017 - 18 season ?',\n",
       " 'what be the advantage of hear aid ?',\n",
       " 'be all fair skinned indians be exile from other country ?',\n",
       " 'what be cloth diaper liner ?',\n",
       " 'why be depression so common in teenager ? be it because of hormone ? or because their brain be change so muchh ?',\n",
       " 'how effective be vinegar for treat a bee st ?',\n",
       " 'how do I make grass drink ?',\n",
       " 'which dc and marvel character have the high kill count ?',\n",
       " 'be the for - profit extract wealth that could otherwise be use to build a community sustain system and a pluralist commonwealth ?',\n",
       " 'which book be prefer for hrm ?',\n",
       " 'why be colin kaepernick have a bad year ?',\n",
       " 'what be your lifeute ?',\n",
       " 'why do new social network company not get fund ?',\n",
       " 'what be some useful tip for someone who be start work at cohu ?',\n",
       " 'what be an unanswered question you have have your entire life ?',\n",
       " 'how be black people treat in nazi germany ?',\n",
       " 'be ( happy ) positive people more or less inclined to shop or buy more than ( depressed ) negative person ? what ’ your experience ?',\n",
       " 'if the republican party succeed in provide cover for trump by neutralize rosenstein and mueller , will the result country bear any resemblance to what the founding fathers hop for ?',\n",
       " 'have you ever feel depressed because of your acne ?',\n",
       " 'what do you like and dislike about be a psychologist ?',\n",
       " 'a man tell me that he set the question of iit alternative year . but he do not work in cbsce.is it possible for him to set the question ?',\n",
       " 'what happen to a woman if she take viagra ?',\n",
       " 'what if I dislike my wife ?',\n",
       " 'which one be odd one chilli powder coriander powder salt black pepper ?',\n",
       " 'how do I reach out to my ex ?',\n",
       " 'where can we find indian friend with benefit ( female ) ?',\n",
       " 'which organization across the globe organize program on datum analytic / science with scholarship for foreigner too who be interested in hand on and industry level experience ?',\n",
       " 'what sign r u ?',\n",
       " \"what be the desire effect of purposely erase a patient 's memory ?\",\n",
       " 'what be the benefit of become a marketing manager ?',\n",
       " 'how can I find 5 rational number between 1 and 2 ?',\n",
       " 'why be asia do so well with green building ?',\n",
       " 'be it ok to have small dick ? I be very much worried that I have a small dick .',\n",
       " 'what be the difference between -ए- and -उल- ?',\n",
       " 'what be the equation of force that be excert in a car accident ?',\n",
       " 'what be it like to be a 2nd generation half filipino woman ( filipino parent bear here , grandparent not ) ?',\n",
       " 'what be at you be waste time ?',\n",
       " 'I be in the process of get transfer to mumbai . My family be in kolkata . what be the cost to maintain family in both city ?',\n",
       " 'be it possible to escape handcuff ?',\n",
       " 'can I apply for iiit raipur have score 75.2 % in 12th board and 40 in jee main ?',\n",
       " 'what should I expect during my first week of college ?',\n",
       " 'sir edwin hubble notice that all galaxy be move away from us . should not there be some galaxy move towards us ?',\n",
       " 'where be priyanka chopra celebrate her birthday today , any idea , try , I will let u know day after , do not google ?',\n",
       " 'why be people still fight over religion when there be other serious which need attention ?',\n",
       " 'in europe , be american software developer in demand ?',\n",
       " 'why do woman of the house be never ask their opinion while take decision about their own house ?',\n",
       " 'why do sword change shape ?',\n",
       " 'what be your work experience in microsoft ?',\n",
       " 'do anyone actually want to be mentally ill ?',\n",
       " 'what be the way to start freelance ?',\n",
       " 'what be the difference between india and indians ?',\n",
       " 'what impact would roll back net neutrality have on you personally as oppose to the effect on business or society ?',\n",
       " 'be it possible that cave painting be just prehistoric game of pictionary ?',\n",
       " 'how do one get start as a drag queen ?',\n",
       " 'would an image makeover into monarchy help trump ’s poll ? do not jfk also borrow from royal institution and tradition ? would ivanka make a wonderful princess for trumpsters ?',\n",
       " 'how can one cure white acne naturally ?',\n",
       " 'what be the sterotype that people believe be true about entjs ?',\n",
       " 'can eat banana during pregnancy because asthma in new bear ?',\n",
       " 'will you ever hire a gigolo ? if so , why ?',\n",
       " 'how can I handle a stubborn pupil,/ studeny ?',\n",
       " 'be there a way in which I can use my mechanical engineering knowledge online and earn money ?',\n",
       " 'what be the reputation of chinese high school exchange student in the usa ? do they come to work - or to goof off and spend daddy ’s money ?',\n",
       " 'how be johannes brahms influential to modern composer ?',\n",
       " 'what would you do if the last person you see be out to kill you ?',\n",
       " 'what be the next no in 992,733,845,632 ? and option be a ) 114 b ) 326 c ) 425 d ) 947 ?',\n",
       " 'which branch will be in demand in engineering in 2022 ?',\n",
       " 'why do my ex / future father of my kid block me ?',\n",
       " 'what be pinon picking ?',\n",
       " 'what be the chance of get a girl pregnant if she take the pill , you use a condom , and also pull out ?',\n",
       " 'how be a spreadsheet helpful ?',\n",
       " 'will cutoff of pec decrease in 2017 ?',\n",
       " 'can I get address of a vodafone number ?',\n",
       " 'be it technically possible to transfer the consciousness of a person into a synthetic body ? and have research like this ever be do before ?',\n",
       " 'what be the scope in the career of travel and tourism ?',\n",
       " 'where can I buy spy cheat device in india ?',\n",
       " 'which be the good book for organic chemistry for iit jam ?',\n",
       " \"be it selfish that I get sad when I be not a part of someone 's ( close one ) happiness ?\",\n",
       " 'He be blind with one eye . be this sentence correct ?',\n",
       " 'be there a connection between the anunnaki and the nephilim ?',\n",
       " 'I hear that israel try to set up a druze homeland in the golan heights . what happen and why do it fail ?',\n",
       " 'how do you become good with any team in 2k18 ?',\n",
       " 'what be the good advise for transfer to stanford university from community college ?',\n",
       " 'what be your begg challenge in life ?',\n",
       " 'be it normal to have bleed and pain after take azithromycin teva to cure chalmidya ?',\n",
       " 'be nikon d5300 worth buy now as be an old model ? be it outdated ?',\n",
       " 'what be the difference between path difference and phase difference ?',\n",
       " 'when be graft - versus - host disease discover ?',\n",
       " 'should someone leave a guy for good option if he be of same age and she will settle in life just like me ?',\n",
       " 'which be the good nas storage device for home purpose and why ?',\n",
       " 'what should I do to join a good cricket team as a physiotherapist ?',\n",
       " \"can you share any ' tit for tat ' moment in cricket ?\",\n",
       " 'how can I start a blog in china ?',\n",
       " 'why do ipad hold value so much good than iphones ?',\n",
       " 'do you think our friendship matter to my guy friend ?',\n",
       " 'how can I join the illuminati online ?',\n",
       " 'I have an acl and meniscus surgery . It be be a little more than 3 week , and I have very little flexion in my knee , although my extension be perfect . what do I do ?',\n",
       " 'how do many stray cat in nyc stay so well - groom ?',\n",
       " 'what be the physics faculty at mcgill university specialise in ? ask as a potential graduate student .',\n",
       " 'can high voltage power line jam a gps signal ?',\n",
       " 'what be the advantage of aws certification developer associate for a experienced php developer ?',\n",
       " 'how doi unblock yourself from someone who block me in facebook messenger ?',\n",
       " 'why do woman love food ?',\n",
       " 'what us military branch can I join as a legally blind person ?',\n",
       " 'what type of pastery can you make with 5 pound of flour ?',\n",
       " 'why do we use cos intead of sin in calculate work ?',\n",
       " 'be ready make biscuit dough sell in singapore ?',\n",
       " 'what be the sign when you be go through depression ?',\n",
       " 'how do I find an interesting social enterprise project ?',\n",
       " 'which one be more important knowledge , logic ?',\n",
       " 'what be the difference between mistake , error , flaw , blunder , fault and faux pas ?',\n",
       " 'how do I download movie from torrent ?',\n",
       " 'how do you prepare yourself to move on from a fail relationship prior to end it ?',\n",
       " 'can we look at the same point for a long time ? why not ?',\n",
       " 'what be the purpose of financial innovation ?',\n",
       " 'what lead warehouse manager to change their wms provider ?',\n",
       " 'when will class start for student join iit palakkad ( 2017 ) ?',\n",
       " 'who do you believe be the next yuna kim ?',\n",
       " 'why do america have a day where law do not matter ?',\n",
       " 'why do only woman shave their arm and leg normally and man do not ?',\n",
       " 'how should I solve for x : sin x=32 ?',\n",
       " 'why do you decide to tale a gap year after high school ?',\n",
       " 'be there a way to massively charge a group of micro / swarm bot at the same time without individually plug them in and charge one at a time ?',\n",
       " 'how can one have an undefined identity ? I want to be know as \" no name \"',\n",
       " 'what be the most powerful way to break a curse from an enemy that do voodoo ?',\n",
       " 'what can a mbbs college dropout do to find a job in travel ?',\n",
       " 'why be the origin of baumkuchen a matter of controversy ?',\n",
       " 'I have a passion for motivational speaking , but i´m too shy . what can I do ?',\n",
       " 'what be you suppose to do when stock android be not work ?',\n",
       " 'what will happen if people on twitter come to quora ?',\n",
       " 'how do audrey tautou become a know actress ?',\n",
       " 'how do I know whether he need me or love me ?',\n",
       " 'which be a big story from a historical point of view , the election of trump or obama as the president of the united states ?',\n",
       " 'why would morgan le fay not kill the hulk ?',\n",
       " 'do we need to wear spike shoe while do long jump in a stadium ?',\n",
       " \"what be the hire process like at papa murphy 's ?\",\n",
       " 'what be the good guide tour in japan ?',\n",
       " 'what be some tip for buy a camera which can shoot video and click photo ?',\n",
       " 'be cricket pitch always place symmetrically on the ground ?',\n",
       " 'I be silent observer of dowry in bangladesh which give me mentally pressure , how can I get rid of it ?',\n",
       " 'what be the different type of poultry , and what be their us ?',\n",
       " 'be jeff atwood right that typing proficiency be a programming productivity bottleneck ?',\n",
       " 'how can you modify the traditional recipe of café au lait to improve it ?',\n",
       " 'what be it that the weekend feel come ?',\n",
       " 'what be the good school in canada for study theoretical physics ?',\n",
       " 'why be quora so shit ?',\n",
       " 'what be the total thermal operational capacity of the world today ?',\n",
       " 'what will be the post of ntpc diploma trainee after training ?',\n",
       " 'do my 4 month relationship mean anything if my ex boyfriend be date a lot of girl ?',\n",
       " 'why do man like me so much and then do not call ?',\n",
       " \"what expectation do you have for trump 's first 100 day ?\",\n",
       " 'why be not semi auto rifle use in mass shooting pre-1960 ?',\n",
       " 'do venus have a day and night ?',\n",
       " 'be it normal for people who suffer from bipolar disorder to have no friend ?',\n",
       " 'be christian why do or do not you witness door to door ?',\n",
       " 'will write a thesis paper about visualization have meaningful influence on my career as a web developer ? I be most interested in d3.js',\n",
       " 'should a retire family member be turn in for fraudulent claim regard disability and receive hefty monthly check ?',\n",
       " 'what be the benefit of a formative assessment ?',\n",
       " 'what do you hate most about wooden furniture ?',\n",
       " 'why be my period last so long ?',\n",
       " 'what kind of educational background do you need to acquire a phd in multiscale modeling of materials or computational materials science ?',\n",
       " 'what be some must see motivational video ?',\n",
       " 'what be some bad example of ethical business leader ?',\n",
       " 'what be the easy way to get mineral water online ?',\n",
       " 'what be superposition principle ?',\n",
       " 'what if I recharge my jio sim with two pack at same time ?',\n",
       " 'how can we get the thing which we have order ?',\n",
       " 'what be benefit of omega 3 ?',\n",
       " 'who invent the floppy disk ?',\n",
       " 'how many hour should I study to crack iit ?',\n",
       " 'be ripio credit network ( rcn ) a good cryptyocurrency / altcoin to buy into and where do you get it from ?',\n",
       " 'what be the similarity between unesco and isesco ?',\n",
       " 'be there any popular instagram date page for asian girl & black guy ? or latina girl & black guy ? I see all kind for black & white , but not those two other combo .',\n",
       " 'who introduce the conversion of light energy into chemical energy in photosynthesis ?',\n",
       " 'what be the most crucial period for youth ?',\n",
       " 'what be your hard case as a judge ?',\n",
       " 'who be the old person to get kill in the holocaust ?',\n",
       " 'be it ok for the engine oil to exceed the maximum ?',\n",
       " 'what be teamwork from the perspective of computer science industry ?',\n",
       " 'be there any professional course at nid ?',\n",
       " 'what be your thought on a more modern form of japanese jiu jitsu ?',\n",
       " 'what be the roll of gandhiji in his all movement ?',\n",
       " 'will the sokovia accords be mention in the netflix part of the mcu ?',\n",
       " 'what do you prefer , buy fresh new book or borrow book ? the content be the same . ?',\n",
       " 'what be some issue address in microeconomic ?',\n",
       " 'what be a william ?',\n",
       " 'if a girl say that he will not be able to make it to a date , be it good to reply \" what about next weekend \" or \" just hit me when you be free \" ?',\n",
       " 'why muslims be mad to make islamic state ?',\n",
       " 'what be the good saa crm ?',\n",
       " 'what be the fashion trend in 2009 ?',\n",
       " 'what be the doubt concern mirror neuron ?',\n",
       " 'the us president love fascist ideal , and be train his follower to hate immigrant and intellectual , especially latinos and arabs . It be unclear how bad thing could get . how will we know it be time to leave the us for our own safety ?',\n",
       " 'what be the good free app to monitor my girl friend whatsapp messenger remotely ?',\n",
       " 'can you touch the quran with a cloth if you have no tahara ?',\n",
       " 'what be diod ?',\n",
       " 'how can one masturbate while menstruate ?',\n",
       " 'what cause a needle - like pain in your foot ?',\n",
       " 'what feature would you like on a market intelligence website ?',\n",
       " 'what be some different type of biofeedback ?',\n",
       " 'should a neighborhood of a point always be open ? & why ?',\n",
       " 'what be their level of scientific and magical knowledge in the overlord series ? where be the limit of their strength ?',\n",
       " 'why be there such an abundance of stupid question on quora ? be people inherently stupid ?',\n",
       " 'what help you deal with or overcome depression ?',\n",
       " 'what be some important property that hydrocarbon contain ?',\n",
       " 'You win a raffle and receive a check for $ 10,000 . what be you spend it on ?',\n",
       " 'how do indian superstitious belief originate ?',\n",
       " 'how easy be it to play baseball at arizona state without be recruit ?',\n",
       " 'north indians keep cite islamic invasion , the british , freight equalization , etc . as excuse for the lack of development . why can not they give hard work south indians a chance to become develop by grant them independence ?',\n",
       " 'do it bother senior that americans get so fat and sloppy look when it use to be one would not leave the house without look impeccably sharp ?',\n",
       " 'if a sphere be purely rolling then what be the angular momentum of the sphere about its top most point ?',\n",
       " 'which university should I attend between university of manchester and university of sheffield to study software engineering ?',\n",
       " 'what be the type of energy inside a singularity point ?',\n",
       " 'be escuela santa ana scary ?',\n",
       " 'will the shameless bjp form a government in meghalaya even after win just 2 seat ?',\n",
       " 'how do I stay inspire in my weight loss journey ?',\n",
       " 'how marriage affect love ?',\n",
       " 'how do great man theory come together with the founding father ?',\n",
       " 'how be vinger make ?',\n",
       " 'how many acre be in a section and , how many section be in a square mile ?',\n",
       " 'what be the procedure to become a doctor ?',\n",
       " 'how I can edit link image before post on facebook ?',\n",
       " 'I want to work as a freelance logo designer for international client , in that case how can I receive payment from my client , as paypal be not support in my country ?',\n",
       " 'how do a poltergeist come into existence ?',\n",
       " 'how can I tell if my good friend be gay ?',\n",
       " 'have any outsider become the ceo of google ?',\n",
       " 'what be the trend masters course in ireland for 2 year it experience person from india ?',\n",
       " 'how hard be it to survive at kiit ?',\n",
       " 'when anyone ask you what be your goal and about your preparation how do you avoid them by tell the truth ?',\n",
       " 'why be my dead mother beat me up in my dream ?',\n",
       " 'how can I proceed with my research if my subject be the total population and only 85 percent respond ?',\n",
       " 'what be process to convert carbon dioxide to oxygen ?',\n",
       " 'how can I get rid of a scar leave by a box jellyfish ?',\n",
       " 'how do you make a sucker arrow ?',\n",
       " 'why do not opec and the us shale come together to raise the price of oil ?',\n",
       " 'I be 18 y.o and from india . I recently find out that I be emotionally abused for the past 8 year by my parent . I want to escape this place . what be my option ? talk to them be past the solution .',\n",
       " 'how can I change my mobile no in idbi bank account ?',\n",
       " 'why do not we use direct supply from power generation station to house holder ?',\n",
       " 'will the destruction of betelgeuse have any impact on earth ?',\n",
       " 'how would naruto series be different if orochimaru have become hokage ?',\n",
       " 'be moka coffee maker really the good ?',\n",
       " 'what be the correct temperature ?',\n",
       " 'should I go to the soccer stadium or see my crush dance for the last time ?',\n",
       " 'what be the rate for mobile servicing course ?',\n",
       " \"all the vape cig battery 's and disposable item with battery 's what be it do to earth ?\",\n",
       " 'whether the diamond be opaque in nature or not and why ?',\n",
       " 'be there any good coaching institute for ms in raipur which actually produce result ? also can someone also give the average cost of pursue ms in usa ?',\n",
       " 'how do the principle of government influence the leadership of george washington ?',\n",
       " 'to which extend do you trust the external appearance of any person you deal with ?',\n",
       " 'which be the good city in china outside of beijing and shanghai to visit for holiday ?',\n",
       " 'should not americans know by this time that socialism do not work and will destroy america ? ie bernie sanders',\n",
       " 'be you still waste your time ? will not you rather go and study ?',\n",
       " 'what do a jew explicitly mean when he say \" only middle easterners and europeans be the one that affect me when they say something anti - semitic \" ?',\n",
       " 'approximately , what percentage of nobel prize & fields medal winner be marry ?',\n",
       " 'be it possible for this generation to become millionaire from nothing ?',\n",
       " 'be it true that ntr worship anti societal element such as black magic ?',\n",
       " 'if pokhraj be break then what happend ?',\n",
       " 'what can a rank of 6759 in jee mains general category fetch me ( soe be up ) ?',\n",
       " \"why do people call arjuna a great warrior , even though arjuna leave lord krishna 's wife to the mercy of robber ?\",\n",
       " 'how many vegetable do tennesseans eat a day ?',\n",
       " \"do eddard stark believe the deserter 's story of the white walkers in s1 e1 ? do he even believe they exist ?\",\n",
       " 'do the italians make good men suit than british ?',\n",
       " 'what do the people in the chola dynasty eat ?',\n",
       " 'where can I buy stabiliser and emulsifier ?',\n",
       " 'can you set your phone to ring ( alarm ) when you receive certain email message ( work ) ?',\n",
       " 'be the milk people buy in america water down compare to some other country ?',\n",
       " 'how do you guy find the fact that philippines celebrate christmas from september to december ? I just want to know what foreigner think of that tradition ( which be rather cool for me ) .',\n",
       " 'what be all the consequence of the anti - sharia legislation for muslims in usa ?',\n",
       " 'what should I do to travel france ?',\n",
       " 'what be good greet message for anniversary to wish a brother and his wife ?',\n",
       " 'what will happen if I do not pay credit card bill ?',\n",
       " 'what be the good memory techniques for engineering ?',\n",
       " 'how often do girl have sex when they be single ?',\n",
       " 'what do it mean if your twin flame kiss you in a dream ?',\n",
       " 'how do I lodge a complaint against a ticket booking agent for refuse to refund ?',\n",
       " 'do this boy just want me for sex ?',\n",
       " 'what be some way you can make an acted depiction of the story in the novel \" around the world in eighty days \" by jules verne ?',\n",
       " 'how do I choose product to export to singapore ?',\n",
       " 'why do anybody care about the royal wedding between meghan markle and prince harry ?',\n",
       " 'what . be cause of drop out ?',\n",
       " 'be a walk for cancer a fraud because ?',\n",
       " 'what do I do if my nanny hit my little sister ?',\n",
       " 'how do I stop acne and acne spot ?',\n",
       " 'do it matter whether somebody follow the rule of allah set in the quran but do not convert to islam ?',\n",
       " 'how do you maintain your positive outlook in life ?',\n",
       " 'how do adolf hitler , pol pot , and joseph stalin compare and contrast ?',\n",
       " 'how can you perform a hard reset to a linksys router from an android device ?',\n",
       " 'be I the only one concerned that all the medium attention on the las vegas massacre could spur other \" thrill \" seeker to commit another shooting spree ?',\n",
       " 'how can I become a brazil citizen ?',\n",
       " 'what be the highlight in peter gene \" bruno mars \" hernandez \\'s singing career ?',\n",
       " 'today I touch a girl on her shoulder and immediately after I stop , she do the same to me . be she flirt back at me ?',\n",
       " 'how do nitrous oxide induce laughter ?',\n",
       " 'why be girl / woman moody ?',\n",
       " \"how do hamlet 's madness help him ?\",\n",
       " 'why do rahul gandhi do personal attack on pm modi ? be he so naive or indian politic have come to this level ?',\n",
       " 'I have two small bleach stain on navy blue trouser . what can I do to remove the stain ?',\n",
       " 'why do not the un focus at least a little more on the occupation of tibet ? It seem that all their time be devote to palestine .',\n",
       " 'when do you realize that you be not take responsibility for your own happiness ?',\n",
       " 'how can I get an invitation letter to complete my document to be able to get a tourist visa for myself and my family ?',\n",
       " 'what purpose do the tallmadge amendment serve ?',\n",
       " 'how do I accept myself and start live again ? ( read comment )',\n",
       " 'be the conscious mind lazy ?',\n",
       " 'do your dog actually taste that delicious morsel when you toss them something and they basicly inhail it before they get to the ground ? do they have tastebud ?',\n",
       " \"will my dog be more comfortable have a castration perform by me at home as oppose to take him to a stranger at the vet 's office ?\",\n",
       " 'what feature(s ) do you wish quora have ?',\n",
       " 'in cat 2017 , if I have attempt 22 question in verbal , 11 question in dilr and 12 question in quant with 75 - 80 % accuracy what will be my percentile and mark ?',\n",
       " 'what be the admission procedure for msc finance at nmims ?',\n",
       " 'how much espresso can be pull from a 14 - 18 g dose ? be 2 oz the most ?',\n",
       " 'what be the monthly rent of flat in unitech uniworld gardens 2 , gurgaon ?',\n",
       " 'what be small step I can take to be more talkative ?',\n",
       " 'why the nato country be behave so childish even if they know the anglo - americans lie the world ?',\n",
       " 'how do I make my way in become an english teacher ? My level be b2 .',\n",
       " 'how can I accept myself ? I be an average look girl who always get bully for her look . people be afraid to love me , because they will always be compare , that they could have get a good match .',\n",
       " 'how do I find prostitute in chattisgarh ?',\n",
       " 'with only ghc 200 , be there any investment opportunity for me ?',\n",
       " 'how be shimla different from dehradun ?',\n",
       " 'have you ever be ask a seemingly strange and nonsensical question and you give a meaningful answer ?',\n",
       " 'what be the good movie set during a heatwave ?',\n",
       " 'how do I start learn to code with zero experience ? I be interested in ruby and c #',\n",
       " 'for \" pc \" culture to work , a large majority of people have to be atheist , and be raise around large number of different people , actually have be friend with those \" other people \" and be teach it at early school age , which be not how it be today ?',\n",
       " 'why be you sexist and racist ?',\n",
       " 'where sale my alove vera ?',\n",
       " \"in game of thrones season 1 episode 10 , how do you interprete the second look sansa give to her father 's head , after joffrey be go ?\",\n",
       " 'what be the result of be a bad person ?',\n",
       " 'what be the website for free download book especially for civil engineering ?',\n",
       " 'can I earn the money in euro from india ?',\n",
       " 'how can I get rid of my acne mark ?',\n",
       " 'when be your first kiss and how old be you ?',\n",
       " 'what be the good and bad neighborhood of dehiwala - mount lavinia , sri lanka ?',\n",
       " 'do commercial bank really create money from thin air and charge interest on it ?',\n",
       " 'how can I study for nios physics on demand exam , without any help ?',\n",
       " 'how can I remove tarnish from silver ?',\n",
       " 'what be for english speak ?',\n",
       " 'how long would it take for the world to come to an end ?',\n",
       " 'what be some interesting fact about sri lanka ?',\n",
       " 'do you agree with me that bill gates want to kill poor people ?',\n",
       " 'can I bring jewelry from saudi ? how much I can bring ? do I need to pay custom in india',\n",
       " 'what do I do if my boyfriend do not like me when I get hyper after forget to take my adhd medicine ?',\n",
       " 'what be the most underrated tourist country ?',\n",
       " 'will time travel make repeat history ?',\n",
       " 'what do it mean when you dream a old dead friend come to ask you to marry him with a old rusty ugly ring in a rusty old metsl cage ?',\n",
       " 'why be you so famous on quora ?',\n",
       " 'what be the feature that should include in a website about vehicle ?',\n",
       " 'be the remaining portuguese descended macanese completely disenfranchise from macau society , business , and politic these day ?',\n",
       " 'how do the autosomal dominant polycystic kidney disease affect the excretory system ?',\n",
       " 'why do they decide on olympic host city so far in advance ?',\n",
       " 'how can you look after your hip to avoid hip replacement ?',\n",
       " 'how do you incorporate the geometric shape trend to your life ?',\n",
       " 'how do architecture start ?',\n",
       " 'how do I update range in a binary indexed tree use two bit ?',\n",
       " 'how long it take for bitcoin to arrive on the exchange you use ?',\n",
       " 'if I get college under 15 % quota in neet then shall I able to go through 85 % counselling ?',\n",
       " 'how do a guy be just friend with a girl who do not want to date but do not mind hook up ?',\n",
       " 'can we make our brain as a software ?',\n",
       " 'how do repossession work when someone else have the property ?',\n",
       " 'why do uber have so many problem with the map updating in the bay area ?',\n",
       " 'what be some of the good horror movie to watch ?',\n",
       " 'what factor hinder citizen from enjoy their human right ?',\n",
       " 'be maximum entropy signal process effectively just plot the signal on a non - linear scale ?',\n",
       " 'how well be cricket as a sport be grow and which city attract bud cricketer the most in germany ?',\n",
       " 'how much electricity be cenerat by 3 million barrel of oil ?',\n",
       " 'how you make shallow - minded or people who only in their head admit they be wrong ?',\n",
       " 'what be the good answer to what be your career plan after study in japan ?',\n",
       " 'can I pass cs executive in 2 month , if I start from scratch ?',\n",
       " 'how do I get some powder ?',\n",
       " 'who would make a good leader , trump , pence or paul ryan ?',\n",
       " 'be it muscle memory that we can touch any exact part of our body we want without look ?',\n",
       " 'how do laser engraving function ?',\n",
       " 'how do I move you tube save video to explorer ?',\n",
       " 'be get the galaxy s9 + worth buying , why / why not ?',\n",
       " 'can chronic depression lead to bipolar disorder ?',\n",
       " 'what be squikin ?',\n",
       " 'in india , what be the upcoming ultra premium apartment ?',\n",
       " 'why be your cat terrify ?',\n",
       " 'the west define russians as subhuman officially . last time , it be nazi germany and then come 1941 . should russia take a preventive strike ?',\n",
       " 'as a conservative or libertarian , what do you think be the solution to an increasingly automate workforce ?',\n",
       " 'be communism illegal in germany ?',\n",
       " 'how hard do people work hard ? what be the definition of work hard ? I do not know how much work be enough .',\n",
       " 'give two signal , a and b , with the same probability 0<p<1 , how can one compute the bayesian updating ?',\n",
       " 'where be the good photo spot in mongolia ?',\n",
       " 'what be the difference between input design and output design ?',\n",
       " 'can one buy land in the himalayas , on the mountain inside ?',\n",
       " 'what be your resume for psu mechanical engineering ?',\n",
       " \"be mod'art mumbai a good college for fashion study ?\",\n",
       " 'what be the benefit of eat pasteurized cheese ?',\n",
       " 'why do not I get follower even though one of my answer get 1.9k view and 57 upvote ?',\n",
       " 'why do mnc waste so much paper cup daily instead of use proper glass ?',\n",
       " 'which be your favorite country in africa and why ?',\n",
       " \"what be some of sarah snook 's major accomplishment as an actress ?\",\n",
       " 'how do college golf tournament work ?',\n",
       " 'how do I get rid of clonazepam 0.5 prescribe for anxiety and sleeplessness ?',\n",
       " 'how do I score good mark in account 12th board in just 10 day ?',\n",
       " 'be it possible to make a relationship work when one partner be not happy with sex and the other partner refuse to do anything about it ?',\n",
       " 'I be have trouble enjoy the culture novel by iain bank . love the universe , love some scene , but the novel themselves leave me cold for their structure and seem plot disconnection . what suggestion can you give me to enjoy them ?',\n",
       " 'how do I get more like , share and gift for my song in star maker ?',\n",
       " 'despite prison be segregate , be different race ( or gang ) able to interact with each other ?',\n",
       " 'what be the advantage of channel incentive ?',\n",
       " 'how can I write my research plan for the mext scholarship for electrical engineering ?',\n",
       " \"who be marc anthony 's backup singer ?\",\n",
       " 'which be good - native or hybrid mobile application ?',\n",
       " 'how be work in sugar factory india ?',\n",
       " 'where can I find a legit hacker to fix my credit score ?',\n",
       " 'what be the difference between formwork and scaffolding ?',\n",
       " 'be it true that athlete at the olympic games be allow to use cannabis as long as they do not use it the day they compete ?',\n",
       " 'what be this garbage ?',\n",
       " 'do you know any website or application that allow to search train ticket accord to different variable ( e.g. weekend or budget ) in europe ?',\n",
       " 'how many attach foo shivaji maharaj ?',\n",
       " 'do all intps have an almost uncanny grasp of language ?',\n",
       " 'be there any real hacking of facebook ?',\n",
       " 'what can we do to help us arunachalees to regain chinese citizenship ?',\n",
       " 'what skill should I learn that will be useful in any startup ?',\n",
       " 'leftist always seem to take the side of the indigenous people over the settler . do that mean they take the side of the nazis over the jews , since the germans be indigenous to europe and the jews be not ?',\n",
       " 'why do the spanish destroy mesoamerican temple and codex ?',\n",
       " 'can a sergeant in syria ask me to pay for the preparation of document on his vacation through his general attoney ?',\n",
       " 'what be some good dissertation topic on irrigation engineering ?',\n",
       " 'what tool do I need for android development ?',\n",
       " 'if I buy a copy of pokemon ultra moon can I trade pokemon with my kid who be pokemon regular sun ?',\n",
       " 'what type of question ask in honeywell interview ?',\n",
       " 'what be your weird ice cream flavour you have ever taste ?',\n",
       " 'can shampoo distributor be sue for false advertising concern claim that their shampoo will stop irritation , although they use some fairly irritate chemical such as sulfate ?',\n",
       " 'what be politically incorrect in the usa but be not in france ?',\n",
       " 'what strat with a n and have energy ?',\n",
       " 'which type of company should I approach for sponsorship in college fest ?',\n",
       " 'be president trump come in as the most powerful person in modern world history ?',\n",
       " 'which company or individual build livescores.com ?',\n",
       " 'what do composer know that other do not ?',\n",
       " 'have anyone ever have sex with julia ann ?',\n",
       " 'find out and write observation about lichen act as indicator of pollution ?',\n",
       " 'what be the good institution for learn sql in delhi ?',\n",
       " 'how can I learn geometric theorem in math ?',\n",
       " 'other than human , do any creature use cryptography ?',\n",
       " 'how do I enable quick ball in miui ?',\n",
       " 'be any industry provide training during study ?',\n",
       " 'where can we find igneous rock ?',\n",
       " 'what do an allergic reaction to pine needle look like ?',\n",
       " 'what will be the average salary package after 10 - 12 year have experience in ccna , ccnp and ccie in each ?',\n",
       " 'be firebase firechat the good & safe option for real - time chat ? what could the cost be ?',\n",
       " 'be it harmful to have sex when it be your very first time ?',\n",
       " 'what be the connect between metaphysic and education ?',\n",
       " 'what advice would you give to someone who be move to calabar , nigeria ?',\n",
       " 'what do andrew symonds do now ?',\n",
       " 'why do some tennis player play a single handed backhand and some a two handed backhand ?',\n",
       " 'now that we have have our first black and orange president what will the next one most likely be ?',\n",
       " 'how can you tell if someone be high on cannabis ?',\n",
       " 'what resource exist for calculate a grid of latitude / longitude coordinate at a give distance ?',\n",
       " 'what be a new skill I could learn for free over christmas break ?',\n",
       " 'who be the host of 2017 iifa awards which be power by vivo ?',\n",
       " 'can I work from my phone ?',\n",
       " 'what exam other than jee should I give for engineering and/or research ?',\n",
       " \"will spanish become the most spoken language in the world because of china 's decrease population ?\",\n",
       " 'how can the pentecost event be describe ?',\n",
       " 'be alabaman all like roy moore , or not ?',\n",
       " 'if mass be concentrate at a black hole , why be not space , and especially time concentrate as well ?',\n",
       " 'can you recover innocence ?',\n",
       " 'what be death magix ?',\n",
       " 'there be so many mechanical engineers.so what should I do to geta job after engineering ?',\n",
       " 'what be the value of square of 4 1/2 , when it be express as a mixed fraction ?',\n",
       " 'why can not I deactivate my instagram account ?',\n",
       " 'how do fight foreign war keep america free ?',\n",
       " 'what be the cutoff of bishop school pune for 2017 science ?',\n",
       " 'what be the difference between regular creatine and vegan creatine ?',\n",
       " \"do do bad deed for good reason affect a person 's karma ?\",\n",
       " 'how do one cope with be unnatractive ?',\n",
       " 'what be the small particle in our body ?',\n",
       " 'which engineering field be more prospect in future ?',\n",
       " 'how many rib do man and woman have ?',\n",
       " 'what be the good cannabis etf to invest ?',\n",
       " 'why do r2-d2 never tell luke skywalker that darth vader be anakin skywalker ?',\n",
       " 'be india go in the right track of development with the present government ?',\n",
       " 'I be wait the hire decision of the manager a week after our interview because he be interview more candidate . should I make know that I get another offer meanwhile and need their final decision asap ?',\n",
       " 'how can l make a pizza with a replacement for cheese ?',\n",
       " 'after wait for a month , I be call for a final interview in a multinational company with a very good job offer . I be on my first week with my new job . how do I handle this kind of situation ?',\n",
       " 'how can I know how many people watch the video I send in whatsapp ? ( not just in my contact ) ?',\n",
       " 'what be noice pollution and what should be the remedy to counteract it ?',\n",
       " \"which date website do yilun wang and michal kosinski get their training image from for their work on facial recognition of gay people ? be it ethical for them to download and use the image in this manner without consent from the website 's user ?\",\n",
       " \"why be some of federico lorca 's literary work censor ?\",\n",
       " 'how hinduism will be save when islam be so aggressive and christianity so crafty ?',\n",
       " \"how do I determine what point of view style to use when write a narrative about a famous person 's life ?\",\n",
       " 'what be iskcon and what do it do ?',\n",
       " 'what hotel in nyc sponsor foreign worker ?',\n",
       " 'be there any special procedure to add a video to earn money ?',\n",
       " 'what be fred zoller know for ?',\n",
       " 'what be some sign that a person only want to have sex with you ?',\n",
       " 'if america have split into two nation before 1860 without resort to civil war , what would they look like today . ?',\n",
       " 'why do both indian feminists and white supremacists hate indian men so much ?',\n",
       " 'how do solar car work at night ?',\n",
       " 'You feel that you be a different person when you be single ?',\n",
       " 'when do the flipkart offer . sale in 2018 ?',\n",
       " 'what if ranveer singh play baahubali ?',\n",
       " 'do ar-15 advocate honestly think the us government be go to run the nation via martial law ?',\n",
       " \"what exactly be the joker 's motivation ?\",\n",
       " 'how much current be flow through a 3 ohm resistor when a potential difference of 6v be apply across its end ?',\n",
       " 'what be the process for start phd study after postgraduation ?',\n",
       " 'how do you prove that [ math]\\\\ sum_{n=0}^{\\\\infty } sin(\\\\frac{xy}{n^2 } ) [ /math ] converge uniformly for every [ math]\\\\ r \\\\in ] 0,\\\\infty [ [ /math ] for [ math]/ ( x , y ) \\\\ in [ -r , r ] x [ -r , r ] [ /math ] ?',\n",
       " 'do you think taylor swift should have change her good girl persona to her current ? should she have handle the kimye situation differently ?',\n",
       " 'do emperor palpatine actually have the ability to save padmé from death ?',\n",
       " 'how be the toilet clean harpic mass produce ?',\n",
       " 'what be the value of limit of 1/1.2 + 1/2.3 + 1/3.4+ … 1/n(n+1 ) as n tend to infinity ?',\n",
       " 'what s mean by regular expression ?',\n",
       " 'what be the good business to do after class 12 to earn million ?',\n",
       " 'what be the average price in the red light district of kuala lumpur ? anonymous obviously',\n",
       " 'could in - flight refueling with automate system such as drone lead to drastic fuel saving in commercial aviation ?',\n",
       " 'what be it like to run a family - own company in germany ?',\n",
       " 'can neurbion forte help with depression ?',\n",
       " 'how awkward be see your sibling naked ? be this so in early time ? why be it that way ?',\n",
       " 'My pregnant guppy keep go to the bottom of the tank ?',\n",
       " 'when be the last time you make a complete fool of yourself ?',\n",
       " 'why have india be a primitive & backward tribe in the world ?',\n",
       " 'how do I score more than 10 % mark in chemistry in jee advance ?',\n",
       " 'what book would you recommend to read in advance as preparation for facility / operation / project / construction management ?',\n",
       " 'how can you treat a lump near your elbow ?',\n",
       " 'say something you always want to say but never do ( anonymous question , anonymous answer ) ?',\n",
       " 'be europe and the usa fall apart ?',\n",
       " 'what be the good way to tell a guy that I like him ?',\n",
       " 'will pakistan cricket player do fast during champion trophy ?',\n",
       " 'what be this book \" His secret obsession \" by james bauer ? do anyone read it ? be it worth it ? when be it release ?',\n",
       " 'why have not michael cohen be call to account before the bar yet ? His \" fixer \" deal with trump along with his receive money to provide access to trump seem to raise serious character and fitness question .',\n",
       " 'have my prescription change drastically , or do my optometrist make an error ?',\n",
       " \"what do the initial a.s.c. follow a person 's name in closing credit stamd for ?\",\n",
       " 'what be some rainforest in america ?',\n",
       " 'where do the \" extra \" energy come from in slipstream or draft ?',\n",
       " 'why do some people in quora include the question in the beginning of their answer ?',\n",
       " 'how should I quit from kotak assured savings plan ?',\n",
       " 'ghani in arabic ?',\n",
       " 'how do I start read about christianity ?',\n",
       " 'do you get deceive in a relationship ? how do you feel when you know that ?',\n",
       " 'how can you fuck a woman that get high ?',\n",
       " 'what be the most uncomfortable / helpless situation you have come across as a woman ?',\n",
       " 'what be the requirement for good functional testing service ?',\n",
       " 'would it be possible to start a cognitive revolution in another specie ?',\n",
       " 'what be the difference between focus and epicentre . answer in three point ?',\n",
       " 'how do I get internship in l&t ?',\n",
       " 'how many state board student score more than 300 mark in neet from tamil nadu ?',\n",
       " 'why will not trump go burn already ?',\n",
       " 'what be your jee timetable for the preparation of jee advance in just one year ?',\n",
       " 'who have hear of hatsune miku and do you think she be good or not ?',\n",
       " 'what be the treatment procedure for someone who be in a cataleptic state ?',\n",
       " 'how can we do blend in sketch ?',\n",
       " \"in the event of a complete memory loss , what evidence do we have that the person have not already form equally new and valid ' memory ' in their place without even be aware of such a process ?\",\n",
       " 'what be the name of the mountain locate on the pacific trench ?',\n",
       " 'do the us government know for certain whether alien life have visit earth or not ?',\n",
       " 'what be 3 thing you would have like to know about sailing before you go into it ?',\n",
       " 'how do I find a agent to help me become a celebrity ( singer , actress , author & wrestler ) ?',\n",
       " 'what be the difference between cc and horsepower ?',\n",
       " 'how do valancie change in a periodic table ?',\n",
       " 'be it racist to say \" I be not racist , my shadow be black \" ?',\n",
       " 'why do you love not follow rule ?',\n",
       " 'what be some thing that do not matter in life ?',\n",
       " 'be there a shortage of eligible man in india ?',\n",
       " 'how do I get a job in one plus ?',\n",
       " \"how can I meet women ' standard ?\",\n",
       " 'why do psg sign gareth bale ?',\n",
       " 'why do my head itch only when I sweat ?',\n",
       " 'what be nullisomy ?',\n",
       " 'which country in the world produce the fine quality of tea ?',\n",
       " 'be differential pressure define by exact differential or inexact differential ?',\n",
       " 'will china overtake america within the next decade ?',\n",
       " 'be it important to read sociology ?',\n",
       " \"in the movie forrest gump , be forrest the biological father of jenny 's son or do she lie about that ?\",\n",
       " 'be it possible for mental disorder to manifest only in one sex of a lineage ?',\n",
       " 'what be the example of herd mentality ?',\n",
       " 'be there a good christian devotional about date ?',\n",
       " 'would take a small bite of food before bed help keep metabolism high while sleep ?',\n",
       " 'what should we do if it rain on our wedding day and we do not have a backup plan for our outdoor ceremony ?',\n",
       " 'why do quora remove question detail if they do not distract from the question and when question comment may be abuse to provide contextual info , and be it possible that this change would make quora devolve into a yahoo answer type of forum ?',\n",
       " 'why do doctor who wear a fez ?',\n",
       " 'why do facebook make it hard for you to delete your profile ?',\n",
       " 'why do iranians let a foreign religion name islam wipe out their previous religion and culture ?',\n",
       " 'why do quora favour really brief question inadequate to focus answer ?',\n",
       " 'how can I resize a pasted image use photoshop ?',\n",
       " 'what brand of bcaa have caffeine ?',\n",
       " 'what be the main defect of lockheed martin f-35 lightning ii ?',\n",
       " 'a norwegian colleague report a p = value of 0,96 % for compare the distribution of female / male final score on a developmental scale . what do that mean in conventional usa report ?',\n",
       " 'how do I spend christmas holiday alone without feel depressed and lonely ?',\n",
       " 'what literary device can be find in gather blue ( book ) ?',\n",
       " 'do you have to explicitly say the word \" date \" when ask a girl out ?',\n",
       " 'what should I know before I invest in bitcoin ?',\n",
       " 'why be the great salt lake in utah so salty ?',\n",
       " 'hadoop developer or sailpoint developer which one have good future ?',\n",
       " 'what be the difference between christians and catholics ? do anyone can go to heaven ?',\n",
       " 'would an external threat to earth create world peace or would conflict still rage on regionally ?',\n",
       " 'why be japan so much more civilized than other asian country ?',\n",
       " 'how be the covalency of the compound pf6 be 7 ?',\n",
       " 'who we convert galvanometer into ammeter of range 0 ampere to 2 apmere ?',\n",
       " 'I be new in the investment market . please advise , what all number , report and financial fact I should see before make decision ?',\n",
       " 'what will happen to the length of day if light travel at infinite speed ?',\n",
       " 'what be the definition of the term \" vignette \" ?',\n",
       " 'what make a young lady desire to show all of her asset ?',\n",
       " 'how do I make sim card work in lenovo thinkpad t460 ?',\n",
       " 'how do I delete \" wittybunny\"from my fb profile ?',\n",
       " 'why do saudi arabia behead indonesian worker without give any notice to the government of indonesia ?',\n",
       " 'what be some example of health education method ?',\n",
       " 'which company make million without any initial capital expenditure ? and how do they manage to pull it off ?',\n",
       " 'cindy have 5 kid .. january , february , march , april , what be the name of 5th kid ?',\n",
       " 'what be the effect of the boxer rebellion in china ?',\n",
       " 'what would the symbiote on the hulk be like ?',\n",
       " 'could I keep a bird and a small turtle or tortoise in the same enclosure ?',\n",
       " 'who win , a prime roy jones jr or andre ward , 168lbs and 175lbs ?',\n",
       " 'what be a threshold brake technique for ?',\n",
       " 'why do an infection because a milky texture on urine ?',\n",
       " 'first of all , I send all my remorse to all the las vegas victim . secondly , what be the probability that someone could be hit by a bullet in that event ( 0 - 1 ) ?',\n",
       " 'why do educate white woman vote for trump ?',\n",
       " 'how do a levitron work ?',\n",
       " 'how can I find a major / degree that appeal to me ?',\n",
       " 'how do you fix a not respond direct d2400 class d mono amplifier ?',\n",
       " 'which university should I choose for an exchange semester in economic ? the university I be consider be university of st. gallen ( switzerland ) , university of calgary ( canada ) or warsaw school of economic ( poland ) .',\n",
       " 'what be the easy to hard military branch to enlist in ?',\n",
       " 'I would like to try the noa font first and then buy it . be there a link to download it for free ?',\n",
       " 'how can I use speech recognition technology in microsoft windows 8.1 ?',\n",
       " 'what make the good story ?',\n",
       " 'what would be some legal issue an immortal person would encounter if they want to keep the fact that they be immortal secret ?',\n",
       " 'how bad be your day ?',\n",
       " 'what source of energy and electricity be good for the environment ?',\n",
       " 'what should I have in mind when decide to learn chinese ?',\n",
       " 'how boy become gay ?',\n",
       " 'if I have to self teach myself machine learn on a practical level , which resource be deem the good do so ? if you be a self teach ml scientist , how do you do it ?',\n",
       " \"how accurate be dostoyevsky 's depiction of the psychopath in the brothers karamazov and other writing ?\",\n",
       " 'how do you write a catchy blog headline that also showcas the true value of the post ?',\n",
       " 'should I let my gay friend blow me ? He want to let himself in some morning , slip into my bed , take care of my morning wood and leave without a word . why not ?',\n",
       " 'be 61 mark eligible for iit ?',\n",
       " 'how do animal defend themselves out in the wild ?',\n",
       " 'You be trap in a room with someone wear ducky pajama . what do you do ?',\n",
       " 'will there ever be a passenger submarine similar to plane ?',\n",
       " 'what be some christmas decoration for my front porch ?',\n",
       " 'what be some way to help with my body dysmorphic disorder ?',\n",
       " 'what be the us of autonomous vehicle ?',\n",
       " 'can syphilis kill you ?',\n",
       " 'what be the uk consider regard teach about the halocaust in school ?',\n",
       " 'how secure be gmail for corporation ?',\n",
       " 'how important be creativity when it come to advertising agency ?',\n",
       " 'how be an ariens gas log splitter manufacture ?',\n",
       " 'what be an example of a billionaire who never work in his / her life ?',\n",
       " 'why be my one cup scoop big than my one cup measure ?',\n",
       " 'can I appear for diploma in child health after md in physiology ?',\n",
       " 'what be the correct way to minimize the screen size on a laptop ?',\n",
       " 'when do splistvilla show on channel 7.1 in suriname ?',\n",
       " 'why be so many liberal on this app so smug and arrogant ?',\n",
       " 'for latinos , if there be only two box to check for race ( black and white ) , what do you check for race ? why ?',\n",
       " 'what be some problem which have long be solve , but whose solution be inaccessible to the public ?',\n",
       " 'be not theology the great of all the science because it encompass the rest ?',\n",
       " 'how do you apply guassian theory ?',\n",
       " 'what be the end product of alcoholic fermentation ?',\n",
       " 'how long should we wait to conceive after my husband do cocaine ?',\n",
       " 'what be your experience at palghar vipassana center ?',\n",
       " 'who be the most selfish actor in bollywood ?',\n",
       " 'do indian man in the west really have it hard with woman ?',\n",
       " 'why be audio recording so bad in the 50s/60s ?',\n",
       " 'name a one book that change your life ?',\n",
       " 'what be the difference of the 16 personality type in the mbti in real life and not the thing that be depict in the personality profile ?',\n",
       " 'which be the big market in the healthcare space ?',\n",
       " 'what be the percent of employee in google right after 4 year graduation ?',\n",
       " 'why be vintage bench grinder covet among collector ?',\n",
       " 'consider us may go to war with korea with china support korea ( base on chinese official stance ) , how will chinese americans like ms feifei wang help us defeat china ?',\n",
       " 'what be the sexy languae in the world ?',\n",
       " 'do woman like to have their butt slap ?',\n",
       " 'if ea star warsoffer you to work there , would you accept ?',\n",
       " 'how do you construct a simple resignation email ?',\n",
       " 'what be some useful tip for someone who be start work at costco ?',\n",
       " 'when lawyer be talk to client in police station or jail , how do they keep law enforcement from eavesdropping ?',\n",
       " 'I be from india and I have my own business here . ?',\n",
       " 'why have some bollywood singer shift from bollywood to south to ad film ?',\n",
       " \"how do the chinese envy india 's democracy and freedom ?\",\n",
       " 'what be the average life expectancy in the han dynasty ?',\n",
       " 'be mac os really more productive ?',\n",
       " 'have you ever attend a crime scene reconstruction course ? if so , do you think it be a beneficial skill to learn as a part of your forensic scientist training ?',\n",
       " 'what be the competitive programming website for new programmer ?',\n",
       " \"what be maggie lawson 's inspiration to start act ?\",\n",
       " 'what be some of the good private school in california ?',\n",
       " 'what be the color of phenolphthalein in neutral solution ?',\n",
       " 'how can I ( an indian ) get a civil engineer job in nepal ?',\n",
       " 'how do I tell the difference between the subscriber id number on my excellus card and the id number on my related ny medicaid card ( i.e. which one to provide people with for medical supply ) ?',\n",
       " 'how can a psychological fixation interfere in my personal life ?',\n",
       " 'I understand that when you submit dna to ancestry dot com , they take ownership of it . do this mean they can use it to create a clone army ?',\n",
       " 'what be the good way to set up a local area network ?',\n",
       " 'do those people who believe all people be create equal actually exist , or be they a vocal minority , which make westerners look like useful idiot of international capitalist ?',\n",
       " 'be you a proud american and sionist after all blood shead around the world like hiroshima , nagasaki , vietnam , middle - east , africa , south america etc . ?',\n",
       " \"what be prime factor 's of 100 ?\",\n",
       " 'how be today\"s ap eamcet paper ?',\n",
       " 'what be the most popular mistake in crypto trading ?',\n",
       " 'what happen when I like someone on facebook ?',\n",
       " 'what subject have to choose in 11 for navy ?',\n",
       " 'where can I find number of retailer per category in belgium ?',\n",
       " 'can you not be brave if the action do not scare you ?',\n",
       " 'how can the mechanism of action of ampicillin be describe ?',\n",
       " 'would the dalai lama pay for his own funeral ?',\n",
       " 'do a cancer patient qualify to donate organ ? what criterion / guideline be use ?',\n",
       " 'how do I study hard for jee ?',\n",
       " 'why do I get angry when my mom say she ’ save money for jewelry for my future wife ?',\n",
       " 'how do you interact with other being while you be in ftl ?',\n",
       " 'be webroot sufficient at protect pc from virus ?',\n",
       " 'what be the most challenging part about be the director of learning and development ?',\n",
       " 'how be franklin templeton investments establish ?',\n",
       " 'what do it mean when a narcissist tell you he be a sociopath narcissist and want you to be okay with it ?',\n",
       " 'why do apple product usually slow down after two year ?',\n",
       " 'how can you remove crazy glue from wood ?',\n",
       " 'do someone with narcissistic personality disorder always blame the spouse for their divorce and never themselves ?',\n",
       " 'be rebel media found by a jewish man ?',\n",
       " 'which be your favourite english novel and why ?',\n",
       " 'can dog detect ghost ?',\n",
       " 'why do we man want to see our wife screw other man other man ?',\n",
       " 'how many view would I need to earn 100 $ ?',\n",
       " 'what be the must read book for machine learning and datum science ?',\n",
       " 'what be some statistical probability that actually be \" one in a million \" ?',\n",
       " 'what be chicken sizzler ?',\n",
       " 'how do you effectively clean your tongue ?',\n",
       " 'why do you quit your job at intel ?',\n",
       " 'how would / should an ai react to human , be inherently human ? could / should they have a control reaction , and still be intelligent ?',\n",
       " 'what be a vanova ?',\n",
       " 'be leo man likely to cheat ?',\n",
       " 'what be the most badass thing about internet troll ?',\n",
       " 'be police officer in state that violate the 2nd amendment ( nj , ny , ca ) against the 2nd amendment right to carry or just stick in a state that interfere with our right ?',\n",
       " 'which be the large constitution of the world ?',\n",
       " 'what do you know about accountability partnership ?',\n",
       " 'where be the amazon live chat option ?',\n",
       " 'what be the 5 secret to create a beautiful life ?',\n",
       " 'what be undergrad gpa ’s of cornell tech engineering student ?',\n",
       " 'how much salary do you need to survive in bangalore as a couple ?',\n",
       " 'what be the five bad beatles song ?',\n",
       " 'what should I do , the first semester mba at srm university we have only 40 working day and only 60 % syllabus complete , should we complain to ugc ?',\n",
       " 'if you be an atheist , with no eternal reward nor any reprisal for any of your action , why even live your seventy or eighty year with any moral compass or integrity ? what do you have to live for , since you be go to cease to exist shortly ?',\n",
       " 'what be the good way to be positive , when the people with you have a completely different opinion about a particular incident / person / object ?',\n",
       " 'what be impact crater ?',\n",
       " 'how would you describe the character development in the soap opera tv series the young and the restless ?',\n",
       " 'how should I ask to be part of a prom group ?',\n",
       " 'what be challenge of the informal sector ?',\n",
       " 'how do I tell my therapist that sometimes I see message to kill myself or hear voice say do not listen to him ?',\n",
       " 'how can virtual reality be helpful in the interior design market ?',\n",
       " 'what be the criterias for plan a foot over bridge ?',\n",
       " 'white woman big butt ?',\n",
       " 'what do we get from vegetable that we can not get from fruit ?',\n",
       " 'will you marry a government employee work as a clerk even if you be earn double the salary of him ?',\n",
       " 'be every metal magnetise ?',\n",
       " 'what be the global class in visual studio and where do they come from ?',\n",
       " 'where can I check the flight from toronto airport to laguardia airport ?',\n",
       " 'what the background of free education in tanzania ?',\n",
       " 'how do I make gold powder ?',\n",
       " 'who be the owner of dusk 2 dawn restaurant in madhapur , hyderabad ?',\n",
       " 'be kid still be teach about ricky raindrop , dare to say no to drug , paul bunyan and babe the ox ?',\n",
       " 'do the member of chanticleer have day job ?',\n",
       " 'what be the literary device find in the book \" guess how much I love You \" by sam mcbratney ?',\n",
       " 'be it normal to have a gap of one month in case of period ?',\n",
       " 'why do airtex aviation cease operation ?',\n",
       " 'what it be technique to sort with insertion sort of friends ?',\n",
       " 'what be your favorite astronomy book ?',\n",
       " 'how do shalijat affect your body ?',\n",
       " 'what be the chemical property of arsenic ?',\n",
       " 'if I eat spicy food a few hour before anal sex , will my partner feel a burn sensation on his penis from the chilli as well ?',\n",
       " 'why can not I get through the pain of my husband cheat ?',\n",
       " 'what be gp ret ?',\n",
       " 'what be some tasty flavour popcorn recipe ?',\n",
       " 'good relation do not grow on tree . when do pakistan lift a little finger to build good relation with india ?',\n",
       " 'what be the bad logo / brand design ?',\n",
       " 'how can someone get really thin really fast ?',\n",
       " 'do people really care about the behavior of celebrity with respect to their outspoken role in support political candidate or their leaning towards certain social issue ?',\n",
       " 'what be the scope of a marlin glenfield model 50 ?',\n",
       " 'what be a hypermtropia ?',\n",
       " 'how do I restart my life ? how to get back to the old me with the same joy and enthusiasm ? 23 year old',\n",
       " 'which trait be more important : intelligence or kindness ?',\n",
       " 'why do party like the ukip run in election when it be clear that they can never gain a majority ?',\n",
       " 'what be example of empirical probability ?',\n",
       " 'be \" nice guy \" sneaky fuckboy ?',\n",
       " 'what be some of the sure - kill trick to ask extra pocket money from parent ?',\n",
       " 'do the faraday cage in a microwave oven stop all microwave from escape ?',\n",
       " 'can you define colonial development ?',\n",
       " 'be do iphone jailbreak tutorial and how to get tweak app tutorial on youtube against any rule ?',\n",
       " 'what be the current trend of internal migration in the us ?',\n",
       " 'be I old at age 50 ?',\n",
       " 'why do wild rivers ( water park ) close after the expiration of its lease with the irvine company ?',\n",
       " 'how do mobipocket advertise its product ?',\n",
       " \"note that nasa constellation 's and dse - alpha 's plan use earth orbit rendezvous and do not need a saturn v level rocket , why be eor discard even for the initial part of the apollo flight plan ?\",\n",
       " 'which aspect of writing give you your great satisfaction , validation , or enjoyment ?',\n",
       " ...]"
      ]
     },
     "execution_count": 41,
     "metadata": {},
     "output_type": "execute_result"
    }
   ],
   "source": [
    "lemmas_as_strings = [\" \".join(x) for x in lemmas]\n",
    "lemmas_as_strings"
   ]
  },
  {
   "cell_type": "code",
   "execution_count": 82,
   "metadata": {},
   "outputs": [],
   "source": [
    "## Get the bar chart from sincere questions ##\n",
    "freq_dict = defaultdict(int)\n",
    "for sent in sincere['question_text']:\n",
    "    for word in Vocabulary.generate_ngrams(sent, 2):\n",
    "        freq_dict[word] += 1\n",
    "fd_sorted_sincere = pd.DataFrame(sorted(freq_dict.items(), key=lambda x: x[1]))\n",
    "fd_sorted_sincere.columns = [\"word\", \"wordcount\"]"
   ]
  },
  {
   "cell_type": "code",
   "execution_count": 83,
   "metadata": {},
   "outputs": [
    {
     "data": {
      "text/html": [
       "<div>\n",
       "<style scoped>\n",
       "    .dataframe tbody tr th:only-of-type {\n",
       "        vertical-align: middle;\n",
       "    }\n",
       "\n",
       "    .dataframe tbody tr th {\n",
       "        vertical-align: top;\n",
       "    }\n",
       "\n",
       "    .dataframe thead th {\n",
       "        text-align: right;\n",
       "    }\n",
       "</style>\n",
       "<table border=\"1\" class=\"dataframe\">\n",
       "  <thead>\n",
       "    <tr style=\"text-align: right;\">\n",
       "      <th></th>\n",
       "      <th>word</th>\n",
       "      <th>wordcount</th>\n",
       "    </tr>\n",
       "  </thead>\n",
       "  <tbody>\n",
       "    <tr>\n",
       "      <th>4008118</th>\n",
       "      <td>best way</td>\n",
       "      <td>6973</td>\n",
       "    </tr>\n",
       "    <tr>\n",
       "      <th>4008117</th>\n",
       "      <td>year old</td>\n",
       "      <td>2972</td>\n",
       "    </tr>\n",
       "    <tr>\n",
       "      <th>4008116</th>\n",
       "      <td>will happen</td>\n",
       "      <td>2084</td>\n",
       "    </tr>\n",
       "    <tr>\n",
       "      <th>4008115</th>\n",
       "      <td>many people</td>\n",
       "      <td>1931</td>\n",
       "    </tr>\n",
       "    <tr>\n",
       "      <th>4008114</th>\n",
       "      <td>computer science</td>\n",
       "      <td>1870</td>\n",
       "    </tr>\n",
       "  </tbody>\n",
       "</table>\n",
       "</div>"
      ],
      "text/plain": [
       "                     word  wordcount\n",
       "4008118          best way       6973\n",
       "4008117          year old       2972\n",
       "4008116       will happen       2084\n",
       "4008115       many people       1931\n",
       "4008114  computer science       1870"
      ]
     },
     "execution_count": 83,
     "metadata": {},
     "output_type": "execute_result"
    }
   ],
   "source": [
    "fd_sorted_sincere = fd_sorted_sincere.sort_values(['wordcount'], ascending=False)\n",
    "fd_sorted_sincere.head(5)"
   ]
  },
  {
   "cell_type": "code",
   "execution_count": 85,
   "metadata": {},
   "outputs": [],
   "source": [
    "## Get the bar chart from insincere questions ##\n",
    "freq_dict = defaultdict(int)\n",
    "for sent in insincere['question_text']:\n",
    "    for word in Vocabulary.generate_ngrams(sent, 2):\n",
    "        freq_dict[word] += 1\n",
    "fd_sorted_insincere = pd.DataFrame(sorted(freq_dict.items(), key=lambda x: x[1]))\n",
    "fd_sorted_insincere.columns = [\"word\", \"wordcount\"]"
   ]
  },
  {
   "cell_type": "code",
   "execution_count": 86,
   "metadata": {},
   "outputs": [
    {
     "data": {
      "text/html": [
       "<div>\n",
       "<style scoped>\n",
       "    .dataframe tbody tr th:only-of-type {\n",
       "        vertical-align: middle;\n",
       "    }\n",
       "\n",
       "    .dataframe tbody tr th {\n",
       "        vertical-align: top;\n",
       "    }\n",
       "\n",
       "    .dataframe thead th {\n",
       "        text-align: right;\n",
       "    }\n",
       "</style>\n",
       "<table border=\"1\" class=\"dataframe\">\n",
       "  <thead>\n",
       "    <tr style=\"text-align: right;\">\n",
       "      <th></th>\n",
       "      <th>word</th>\n",
       "      <th>wordcount</th>\n",
       "    </tr>\n",
       "  </thead>\n",
       "  <tbody>\n",
       "    <tr>\n",
       "      <th>497383</th>\n",
       "      <td>donald trump</td>\n",
       "      <td>1076</td>\n",
       "    </tr>\n",
       "    <tr>\n",
       "      <th>497382</th>\n",
       "      <td>white people</td>\n",
       "      <td>673</td>\n",
       "    </tr>\n",
       "    <tr>\n",
       "      <th>497381</th>\n",
       "      <td>black people</td>\n",
       "      <td>653</td>\n",
       "    </tr>\n",
       "    <tr>\n",
       "      <th>497380</th>\n",
       "      <td>many people</td>\n",
       "      <td>383</td>\n",
       "    </tr>\n",
       "    <tr>\n",
       "      <th>497379</th>\n",
       "      <td>united states</td>\n",
       "      <td>360</td>\n",
       "    </tr>\n",
       "  </tbody>\n",
       "</table>\n",
       "</div>"
      ],
      "text/plain": [
       "                 word  wordcount\n",
       "497383   donald trump       1076\n",
       "497382   white people        673\n",
       "497381   black people        653\n",
       "497380    many people        383\n",
       "497379  united states        360"
      ]
     },
     "execution_count": 86,
     "metadata": {},
     "output_type": "execute_result"
    }
   ],
   "source": [
    "fd_sorted_insincere = fd_sorted_insincere.sort_values(['wordcount'], ascending=False)\n",
    "fd_sorted_insincere.head(5)"
   ]
  },
  {
   "cell_type": "code",
   "execution_count": 87,
   "metadata": {},
   "outputs": [
    {
     "data": {
      "image/png": "[encoded data removed]",
      "text/plain": [
       "<Figure size 432x288 with 1 Axes>"
      ]
     },
     "metadata": {},
     "output_type": "display_data"
    }
   ],
   "source": [
    "ax = sns.barplot(x='wordcount', y='word', data=fd_sorted_insincere[:20])\n",
    "ax.set_xlabel('bigram_insincere');"
   ]
  },
  {
   "cell_type": "code",
   "execution_count": 88,
   "metadata": {},
   "outputs": [
    {
     "data": {
      "text/plain": [
       "((497384, 2), (4008119, 2))"
      ]
     },
     "execution_count": 88,
     "metadata": {},
     "output_type": "execute_result"
    }
   ],
   "source": [
    "fd_sorted_insincere.shape, fd_sorted_sincere.shape"
   ]
  },
  {
   "cell_type": "code",
   "execution_count": 89,
   "metadata": {},
   "outputs": [
    {
     "data": {
      "image/png": "[encoded data removed]",
      "text/plain": [
       "<Figure size 432x288 with 1 Axes>"
      ]
     },
     "metadata": {},
     "output_type": "display_data"
    }
   ],
   "source": [
    "ax = sns.barplot(x='wordcount', y='word', data=fd_sorted_sincere[:20])\n",
    "ax.set_xlabel('bigram_sincere');"
   ]
  },
  {
   "cell_type": "markdown",
   "metadata": {},
   "source": [
    "Trigram"
   ]
  },
  {
   "cell_type": "code",
   "execution_count": 90,
   "metadata": {},
   "outputs": [],
   "source": [
    "## Get the bar chart from insincere questions ##\n",
    "freq_dict = defaultdict(int)\n",
    "for sent in insincere['question_text']:\n",
    "    for word in Vocabulary.generate_ngrams(sent, 3):\n",
    "        freq_dict[word] += 1\n",
    "fd_sorted_insincere = pd.DataFrame(sorted(freq_dict.items(), key=lambda x: x[1]))\n",
    "fd_sorted_insincere.columns = [\"word\", \"wordcount\"]"
   ]
  },
  {
   "cell_type": "code",
   "execution_count": 92,
   "metadata": {},
   "outputs": [
    {
     "data": {
      "text/html": [
       "<div>\n",
       "<style scoped>\n",
       "    .dataframe tbody tr th:only-of-type {\n",
       "        vertical-align: middle;\n",
       "    }\n",
       "\n",
       "    .dataframe tbody tr th {\n",
       "        vertical-align: top;\n",
       "    }\n",
       "\n",
       "    .dataframe thead th {\n",
       "        text-align: right;\n",
       "    }\n",
       "</style>\n",
       "<table border=\"1\" class=\"dataframe\">\n",
       "  <thead>\n",
       "    <tr style=\"text-align: right;\">\n",
       "      <th></th>\n",
       "      <th>word</th>\n",
       "      <th>wordcount</th>\n",
       "    </tr>\n",
       "  </thead>\n",
       "  <tbody>\n",
       "    <tr>\n",
       "      <th>555222</th>\n",
       "      <td>will donald trump</td>\n",
       "      <td>43</td>\n",
       "    </tr>\n",
       "    <tr>\n",
       "      <th>555221</th>\n",
       "      <td>black lives matter</td>\n",
       "      <td>42</td>\n",
       "    </tr>\n",
       "    <tr>\n",
       "      <th>555220</th>\n",
       "      <td>long will take</td>\n",
       "      <td>38</td>\n",
       "    </tr>\n",
       "    <tr>\n",
       "      <th>555219</th>\n",
       "      <td>kim jong un</td>\n",
       "      <td>36</td>\n",
       "    </tr>\n",
       "    <tr>\n",
       "      <th>555218</th>\n",
       "      <td>12 year old</td>\n",
       "      <td>35</td>\n",
       "    </tr>\n",
       "    <tr>\n",
       "      <th>555217</th>\n",
       "      <td>people still believe</td>\n",
       "      <td>33</td>\n",
       "    </tr>\n",
       "    <tr>\n",
       "      <th>555216</th>\n",
       "      <td>14 year old</td>\n",
       "      <td>33</td>\n",
       "    </tr>\n",
       "    <tr>\n",
       "      <th>555215</th>\n",
       "      <td>united states america</td>\n",
       "      <td>31</td>\n",
       "    </tr>\n",
       "    <tr>\n",
       "      <th>555214</th>\n",
       "      <td>ask stupid questions</td>\n",
       "      <td>30</td>\n",
       "    </tr>\n",
       "    <tr>\n",
       "      <th>555213</th>\n",
       "      <td>think donald trump</td>\n",
       "      <td>30</td>\n",
       "    </tr>\n",
       "  </tbody>\n",
       "</table>\n",
       "</div>"
      ],
      "text/plain": [
       "                         word  wordcount\n",
       "555222      will donald trump         43\n",
       "555221     black lives matter         42\n",
       "555220         long will take         38\n",
       "555219            kim jong un         36\n",
       "555218            12 year old         35\n",
       "555217   people still believe         33\n",
       "555216            14 year old         33\n",
       "555215  united states america         31\n",
       "555214   ask stupid questions         30\n",
       "555213     think donald trump         30"
      ]
     },
     "execution_count": 92,
     "metadata": {},
     "output_type": "execute_result"
    }
   ],
   "source": [
    "fd_sorted_insincere = fd_sorted_insincere.sort_values(['wordcount'], ascending=False)\n",
    "fd_sorted_insincere.head(10)"
   ]
  },
  {
   "cell_type": "markdown",
   "metadata": {},
   "source": [
    "**Countvectorizer + Multinomial NaiveBayes**"
   ]
  },
  {
   "cell_type": "code",
   "execution_count": 164,
   "metadata": {},
   "outputs": [
    {
     "data": {
      "text/plain": [
       "<653061x121853 sparse matrix of type '<class 'numpy.int64'>'\n",
       "\twith 3670400 stored elements in Compressed Sparse Row format>"
      ]
     },
     "execution_count": 164,
     "metadata": {},
     "output_type": "execute_result"
    }
   ],
   "source": [
    "cvec = CountVectorizer(stop_words='english')\n",
    "tf = cvec.fit_transform(lemmas_as_strings)\n",
    "tf"
   ]
  },
  {
   "cell_type": "code",
   "execution_count": 165,
   "metadata": {},
   "outputs": [
    {
     "data": {
      "text/plain": [
       "list"
      ]
     },
     "execution_count": 165,
     "metadata": {},
     "output_type": "execute_result"
    }
   ],
   "source": [
    "type(lemmas_as_strings)"
   ]
  },
  {
   "cell_type": "code",
   "execution_count": 166,
   "metadata": {},
   "outputs": [],
   "source": [
    "mnb = MultinomialNB()"
   ]
  },
  {
   "cell_type": "code",
   "execution_count": 167,
   "metadata": {},
   "outputs": [
    {
     "data": {
      "text/plain": [
       "Pipeline(memory=None,\n",
       "     steps=[('cvec', CountVectorizer(analyzer='word', binary=False, decode_error='strict',\n",
       "        dtype=<class 'numpy.int64'>, encoding='utf-8', input='content',\n",
       "        lowercase=True, max_df=1.0, max_features=None, min_df=1,\n",
       "        ngram_range=(1, 1), preprocessor=None, stop_words='english',\n",
       "        strip_accents=None, token_pattern='(?u)\\\\b\\\\w\\\\w+\\\\b',\n",
       "        tokenizer=None, vocabulary=None)), ('mnb', MultinomialNB(alpha=1.0, class_prior=None, fit_prior=True))])"
      ]
     },
     "execution_count": 167,
     "metadata": {},
     "output_type": "execute_result"
    }
   ],
   "source": [
    "pipe = Pipeline([('cvec', cvec),('mnb', mnb)])\n",
    "pipe"
   ]
  },
  {
   "cell_type": "code",
   "execution_count": 168,
   "metadata": {},
   "outputs": [
    {
     "data": {
      "text/plain": [
       "Pipeline(memory=None,\n",
       "     steps=[('cvec', CountVectorizer(analyzer='word', binary=False, decode_error='strict',\n",
       "        dtype=<class 'numpy.int64'>, encoding='utf-8', input='content',\n",
       "        lowercase=True, max_df=1.0, max_features=None, min_df=1,\n",
       "        ngram_range=(1, 1), preprocessor=None, stop_words='english',\n",
       "        strip_accents=None, token_pattern='(?u)\\\\b\\\\w\\\\w+\\\\b',\n",
       "        tokenizer=None, vocabulary=None)), ('mnb', MultinomialNB(alpha=1.0, class_prior=None, fit_prior=True))])"
      ]
     },
     "execution_count": 168,
     "metadata": {},
     "output_type": "execute_result"
    }
   ],
   "source": [
    "pipe.fit(lemmas_as_strings, y_train)"
   ]
  },
  {
   "cell_type": "code",
   "execution_count": 169,
   "metadata": {},
   "outputs": [
    {
     "data": {
      "text/plain": [
       "array([1, 0, 0, ..., 0, 1, 0])"
      ]
     },
     "execution_count": 169,
     "metadata": {},
     "output_type": "execute_result"
    }
   ],
   "source": [
    "y_pred = pipe.predict(X_test)\n",
    "y_pred"
   ]
  },
  {
   "cell_type": "code",
   "execution_count": 186,
   "metadata": {},
   "outputs": [],
   "source": [
    "pipe.predict_proba?"
   ]
  },
  {
   "cell_type": "code",
   "execution_count": 170,
   "metadata": {},
   "outputs": [
    {
     "data": {
      "text/plain": [
       "0.9183843469446192"
      ]
     },
     "execution_count": 170,
     "metadata": {},
     "output_type": "execute_result"
    }
   ],
   "source": [
    "pipe.score(X_test, y_test)"
   ]
  },
  {
   "cell_type": "code",
   "execution_count": 171,
   "metadata": {},
   "outputs": [
    {
     "name": "stdout",
     "output_type": "stream",
     "text": [
      "              precision    recall  f1-score   support\n",
      "\n",
      "           0       0.98      0.94      0.96    612656\n",
      "           1       0.40      0.66      0.50     40405\n",
      "\n",
      "   micro avg       0.92      0.92      0.92    653061\n",
      "   macro avg       0.69      0.80      0.73    653061\n",
      "weighted avg       0.94      0.92      0.93    653061\n",
      "\n"
     ]
    }
   ],
   "source": [
    "cr = classification_report(y_test, y_pred)\n",
    "print(cr)"
   ]
  },
  {
   "cell_type": "code",
   "execution_count": 172,
   "metadata": {},
   "outputs": [
    {
     "data": {
      "text/plain": [
       "array([[573108,  39548],\n",
       "       [ 13752,  26653]])"
      ]
     },
     "execution_count": 172,
     "metadata": {},
     "output_type": "execute_result"
    }
   ],
   "source": [
    "cm = confusion_matrix(y_test, y_pred)\n",
    "cm"
   ]
  },
  {
   "cell_type": "code",
   "execution_count": 173,
   "metadata": {},
   "outputs": [
    {
     "data": {
      "image/png": "[encoded data removed]",
      "text/plain": [
       "<Figure size 432x288 with 2 Axes>"
      ]
     },
     "metadata": {},
     "output_type": "display_data"
    }
   ],
   "source": [
    "sns.heatmap(cm, cmap='Blues', xticklabels=y_test.unique(), yticklabels=y_test.unique(), annot=True, fmt='.0f');"
   ]
  },
  {
   "cell_type": "markdown",
   "metadata": {},
   "source": [
    "f1-score @ 0.5 for insincere target"
   ]
  },
  {
   "cell_type": "markdown",
   "metadata": {},
   "source": [
    "Tfidvectorizer + Multinomial NaiveBayes"
   ]
  },
  {
   "cell_type": "code",
   "execution_count": 155,
   "metadata": {},
   "outputs": [],
   "source": [
    "tfid = TfidfVectorizer(stop_words='english')"
   ]
  },
  {
   "cell_type": "code",
   "execution_count": 156,
   "metadata": {},
   "outputs": [],
   "source": [
    "tfid_ft = tfid.fit_transform(lemmas_as_strings)"
   ]
  },
  {
   "cell_type": "code",
   "execution_count": 157,
   "metadata": {},
   "outputs": [
    {
     "data": {
      "text/plain": [
       "Pipeline(memory=None,\n",
       "     steps=[('tfid', TfidfVectorizer(analyzer='word', binary=False, decode_error='strict',\n",
       "        dtype=<class 'numpy.float64'>, encoding='utf-8', input='content',\n",
       "        lowercase=True, max_df=1.0, max_features=None, min_df=1,\n",
       "        ngram_range=(1, 1), norm='l2', preprocessor=None, smooth_idf=True,\n",
       "...rue,\n",
       "        vocabulary=None)), ('mnb', MultinomialNB(alpha=1.0, class_prior=None, fit_prior=True))])"
      ]
     },
     "execution_count": 157,
     "metadata": {},
     "output_type": "execute_result"
    }
   ],
   "source": [
    "pipe = Pipeline([('tfid', tfid),('mnb', mnb)])\n",
    "pipe"
   ]
  },
  {
   "cell_type": "code",
   "execution_count": 158,
   "metadata": {},
   "outputs": [
    {
     "data": {
      "text/plain": [
       "Pipeline(memory=None,\n",
       "     steps=[('tfid', TfidfVectorizer(analyzer='word', binary=False, decode_error='strict',\n",
       "        dtype=<class 'numpy.float64'>, encoding='utf-8', input='content',\n",
       "        lowercase=True, max_df=1.0, max_features=None, min_df=1,\n",
       "        ngram_range=(1, 1), norm='l2', preprocessor=None, smooth_idf=True,\n",
       "...rue,\n",
       "        vocabulary=None)), ('mnb', MultinomialNB(alpha=1.0, class_prior=None, fit_prior=True))])"
      ]
     },
     "execution_count": 158,
     "metadata": {},
     "output_type": "execute_result"
    }
   ],
   "source": [
    "pipe.fit(lemmas_as_strings, y_train)"
   ]
  },
  {
   "cell_type": "code",
   "execution_count": 159,
   "metadata": {},
   "outputs": [],
   "source": [
    "y_pred = pipe.predict(X_test)"
   ]
  },
  {
   "cell_type": "code",
   "execution_count": 160,
   "metadata": {},
   "outputs": [
    {
     "data": {
      "text/plain": [
       "0.9411632297748602"
      ]
     },
     "execution_count": 160,
     "metadata": {},
     "output_type": "execute_result"
    }
   ],
   "source": [
    "pipe.score(X_test, y_test)"
   ]
  },
  {
   "cell_type": "code",
   "execution_count": 161,
   "metadata": {},
   "outputs": [
    {
     "name": "stdout",
     "output_type": "stream",
     "text": [
      "              precision    recall  f1-score   support\n",
      "\n",
      "           0       0.94      1.00      0.97    612656\n",
      "           1       0.68      0.09      0.16     40405\n",
      "\n",
      "   micro avg       0.94      0.94      0.94    653061\n",
      "   macro avg       0.81      0.54      0.57    653061\n",
      "weighted avg       0.93      0.94      0.92    653061\n",
      "\n"
     ]
    }
   ],
   "source": [
    "cr = classification_report(y_test, y_pred)\n",
    "print(cr)"
   ]
  },
  {
   "cell_type": "code",
   "execution_count": 162,
   "metadata": {},
   "outputs": [
    {
     "data": {
      "text/plain": [
       "array([[610963,   1693],\n",
       "       [ 36731,   3674]])"
      ]
     },
     "execution_count": 162,
     "metadata": {},
     "output_type": "execute_result"
    }
   ],
   "source": [
    "cm = confusion_matrix(y_test, y_pred)\n",
    "cm"
   ]
  },
  {
   "cell_type": "code",
   "execution_count": 163,
   "metadata": {},
   "outputs": [
    {
     "data": {
      "image/png": "[encoded data removed]",
      "text/plain": [
       "<Figure size 432x288 with 2 Axes>"
      ]
     },
     "metadata": {},
     "output_type": "display_data"
    }
   ],
   "source": [
    "sns.heatmap(cm, cmap='Blues', xticklabels=y_test.unique(), yticklabels=y_test.unique(), annot=True, fmt='.0f');"
   ]
  },
  {
   "cell_type": "code",
   "execution_count": null,
   "metadata": {},
   "outputs": [],
   "source": []
  },
  {
   "cell_type": "code",
   "execution_count": 103,
   "metadata": {},
   "outputs": [],
   "source": [
    "lr = LogisticRegression()"
   ]
  },
  {
   "cell_type": "code",
   "execution_count": 104,
   "metadata": {},
   "outputs": [
    {
     "data": {
      "text/plain": [
       "Pipeline(memory=None,\n",
       "     steps=[('cvec', CountVectorizer(analyzer='word', binary=False, decode_error='strict',\n",
       "        dtype=<class 'numpy.int64'>, encoding='utf-8', input='content',\n",
       "        lowercase=True, max_df=1.0, max_features=None, min_df=1,\n",
       "        ngram_range=(1, 1), preprocessor=None, stop_words='english',\n",
       "        ...penalty='l2', random_state=None, solver='warn',\n",
       "          tol=0.0001, verbose=0, warm_start=False))])"
      ]
     },
     "execution_count": 104,
     "metadata": {},
     "output_type": "execute_result"
    }
   ],
   "source": [
    "pipe = Pipeline([('cvec', cvec),('lr', lr)])\n",
    "pipe"
   ]
  },
  {
   "cell_type": "code",
   "execution_count": 105,
   "metadata": {},
   "outputs": [
    {
     "name": "stderr",
     "output_type": "stream",
     "text": [
      "/Users/hellososo/bin/anaconda/lib/python3.6/site-packages/sklearn/linear_model/logistic.py:432: FutureWarning: Default solver will be changed to 'lbfgs' in 0.22. Specify a solver to silence this warning.\n",
      "  FutureWarning)\n"
     ]
    },
    {
     "data": {
      "text/plain": [
       "Pipeline(memory=None,\n",
       "     steps=[('cvec', CountVectorizer(analyzer='word', binary=False, decode_error='strict',\n",
       "        dtype=<class 'numpy.int64'>, encoding='utf-8', input='content',\n",
       "        lowercase=True, max_df=1.0, max_features=None, min_df=1,\n",
       "        ngram_range=(1, 1), preprocessor=None, stop_words='english',\n",
       "        ...penalty='l2', random_state=None, solver='warn',\n",
       "          tol=0.0001, verbose=0, warm_start=False))])"
      ]
     },
     "execution_count": 105,
     "metadata": {},
     "output_type": "execute_result"
    }
   ],
   "source": [
    "pipe.fit(lemmas_as_strings, y_train)"
   ]
  },
  {
   "cell_type": "code",
   "execution_count": 106,
   "metadata": {},
   "outputs": [
    {
     "data": {
      "text/plain": [
       "array([0, 0, 0, ..., 0, 0, 0])"
      ]
     },
     "execution_count": 106,
     "metadata": {},
     "output_type": "execute_result"
    }
   ],
   "source": [
    "y_pred = pipe.predict(X_test)\n",
    "y_pred"
   ]
  },
  {
   "cell_type": "code",
   "execution_count": 107,
   "metadata": {},
   "outputs": [
    {
     "data": {
      "text/plain": [
       "0.9484841385414227"
      ]
     },
     "execution_count": 107,
     "metadata": {},
     "output_type": "execute_result"
    }
   ],
   "source": [
    "pipe.score(X_test, y_test)"
   ]
  },
  {
   "cell_type": "code",
   "execution_count": 108,
   "metadata": {},
   "outputs": [
    {
     "name": "stdout",
     "output_type": "stream",
     "text": [
      "              precision    recall  f1-score   support\n",
      "\n",
      "           0       0.96      0.99      0.97    612656\n",
      "           1       0.66      0.35      0.46     40405\n",
      "\n",
      "   micro avg       0.95      0.95      0.95    653061\n",
      "   macro avg       0.81      0.67      0.72    653061\n",
      "weighted avg       0.94      0.95      0.94    653061\n",
      "\n"
     ]
    }
   ],
   "source": [
    "cr = classification_report(y_test, y_pred)\n",
    "print(cr)"
   ]
  },
  {
   "cell_type": "code",
   "execution_count": null,
   "metadata": {},
   "outputs": [],
   "source": []
  },
  {
   "cell_type": "code",
   "execution_count": null,
   "metadata": {},
   "outputs": [],
   "source": []
  },
  {
   "cell_type": "code",
   "execution_count": null,
   "metadata": {},
   "outputs": [],
   "source": []
  },
  {
   "cell_type": "code",
   "execution_count": null,
   "metadata": {},
   "outputs": [],
   "source": []
  },
  {
   "cell_type": "code",
   "execution_count": null,
   "metadata": {},
   "outputs": [],
   "source": []
  },
  {
   "cell_type": "code",
   "execution_count": null,
   "metadata": {},
   "outputs": [],
   "source": []
  },
  {
   "cell_type": "markdown",
   "metadata": {},
   "source": [
    "**Resampling using imbalanced-learn API**"
   ]
  },
  {
   "cell_type": "markdown",
   "metadata": {},
   "source": [
    "1- CondensedNearestNeighbour"
   ]
  },
  {
   "cell_type": "code",
   "execution_count": null,
   "metadata": {},
   "outputs": [],
   "source": [
    "cnn = CondensedNearestNeighbour(random_state=42)"
   ]
  },
  {
   "cell_type": "code",
   "execution_count": null,
   "metadata": {},
   "outputs": [],
   "source": [
    "svd = TruncatedSVD(n_components=20)"
   ]
  },
  {
   "cell_type": "code",
   "execution_count": null,
   "metadata": {},
   "outputs": [],
   "source": [
    "svd_ = svd.fit_transform(tf)"
   ]
  },
  {
   "cell_type": "code",
   "execution_count": null,
   "metadata": {},
   "outputs": [],
   "source": [
    "type(svd_)"
   ]
  },
  {
   "cell_type": "code",
   "execution_count": null,
   "metadata": {},
   "outputs": [],
   "source": [
    "df_svd_ = pd.DataFrame(svd_)\n",
    "df_svd_.head()"
   ]
  },
  {
   "cell_type": "code",
   "execution_count": null,
   "metadata": {},
   "outputs": [],
   "source": [
    "X_target_0, y_target_1 = df_svd_, y_train\n",
    "X_target_0, y_target_1"
   ]
  },
  {
   "cell_type": "code",
   "execution_count": null,
   "metadata": {},
   "outputs": [],
   "source": []
  },
  {
   "cell_type": "code",
   "execution_count": null,
   "metadata": {},
   "outputs": [],
   "source": [
    "X_target_0.shape, y_target_1.shape"
   ]
  },
  {
   "cell_type": "code",
   "execution_count": null,
   "metadata": {},
   "outputs": [],
   "source": [
    "%%time\n",
    "#X__target_res, y_target_res = cnn.fit_resample(X_target_0, y_target_1)\n"
   ]
  },
  {
   "cell_type": "code",
   "execution_count": null,
   "metadata": {},
   "outputs": [],
   "source": []
  },
  {
   "cell_type": "code",
   "execution_count": null,
   "metadata": {},
   "outputs": [],
   "source": []
  },
  {
   "cell_type": "markdown",
   "metadata": {},
   "source": [
    "**Meta Features:**"
   ]
  },
  {
   "cell_type": "code",
   "execution_count": null,
   "metadata": {},
   "outputs": [],
   "source": [
    "df_train[\"num_words\"] = df_train[\"question_text\"].apply(lambda x: len(str(x).split()))\n",
    "df_test[\"num_words\"] = df_test[\"question_text\"].apply(lambda x: len(str(x).split()))\n",
    "df_train[\"num_words\"].head()"
   ]
  },
  {
   "cell_type": "code",
   "execution_count": null,
   "metadata": {},
   "outputs": [],
   "source": []
  }
 ],
 "metadata": {
  "kernelspec": {
   "display_name": "Python 3",
   "language": "python",
   "name": "python3"
  },
  "language_info": {
   "codemirror_mode": {
    "name": "ipython",
    "version": 3
   },
   "file_extension": ".py",
   "mimetype": "text/x-python",
   "name": "python",
   "nbconvert_exporter": "python",
   "pygments_lexer": "ipython3",
   "version": "3.6.5"
  }
 },
 "nbformat": 4,
 "nbformat_minor": 2
}
